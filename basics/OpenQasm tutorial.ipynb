{
 "cells": [
  {
   "cell_type": "markdown",
   "metadata": {},
   "source": [
    "# OpenQasm 2.0\n",
    "\n",
    "[OpenQasm](https://github.com/Qiskit/openqasm/tree/OpenQASM2.x) is a programming language aimed to become the central pilar to program quantum computers in the future. However, this programming language it's still under development so beware of the bugs you may encounter. When you are coding in OpenQasm you can almost feel like you are programming in the C language. It's an [imperative language](https://en.wikipedia.org/wiki/Imperative_programming) that can represent all of our circuits in a lower level of abstraction. Some general characteristics of it's grammar are: \n",
    "- sentences use semicolons\n",
    "- it's case sensitive\n",
    "- white spaces are ignored\n",
    "- It supports single line comments (// A comment line)\n",
    "- Types must be declared (qreg gamma[1];)\n",
    "\n",
    "Now that we now some quick facts let's dig deeper into its grammar."
   ]
  },
  {
   "cell_type": "markdown",
   "metadata": {},
   "source": [
    "## Variables:\n",
    "\n",
    "You can declare two types of variables: quantum quibits and classical registers. Both of them use an array like structure and they are static (once created they never change their size). You can see the summary of the variables in the following table:\n",
    "\n",
    "\n",
    "| variable | Sintaxis |\n",
    "|--------------|----------------|\n",
    "| qubits           | qreg array[20];    |\n",
    "| classical register           | creg bit_array[20];    |\n",
    "\n"
   ]
  },
  {
   "cell_type": "markdown",
   "metadata": {},
   "source": [
    "## Gates:\n",
    "\n",
    "You can declare gates in the following way:\n",
    "\n",
    "                                       gate(*args) Targetqubit; \n",
    "\n",
    "or\n",
    "\n",
    "                                 gate(*args) Targetqubit, Controllerqubit;\n",
    "\n",
    "Check this table for more examples with the most used gates:\n",
    "\n",
    "| gate | Sintaxis                       |\n",
    "|--------------|------------------------|\n",
    "| U3           | u3(pi,0,pi) q[0];    |\n",
    "| X            | x q[0];                |\n",
    "| H            | h q[0];                |\n",
    "| CNOT         | cx q[0],q[1];       |\n"
   ]
  },
  {
   "cell_type": "markdown",
   "metadata": {},
   "source": [
    "## Measurements:\n",
    "\n",
    "You can declare a measurement with the following sintax:\n",
    "\n",
    "                                        measure q[0] -> c[0];\n",
    "                            \n",
    "After that you'll have the result of the measurement of the qubit 0 in the classical register 0."
   ]
  },
  {
   "cell_type": "markdown",
   "metadata": {},
   "source": [
    "## Runing a .qasm file\n",
    "\n",
    "### OQI\n",
    "Now, to run a .qasm file we have two options. We can run it with a pip package that I created. That is, execute it with [OQI](https://github.com/mentesniker/OpenQasmInterpreter). It's pretty simple, once is installed you just have to run the following command:\n",
    "\n",
    "                                          oqi nameFile.qasm\n",
    "\n",
    "After executing this command you'll have the result from your circuit. For example:\n",
    "\n",
    "                                      The results are: {'0': 100}\n",
    "\n",
    "### Qiskit\n",
    "You can also translate a .qasm file into a quantum circuit. This is done with the function from_qasm_file(). From that point forward you can visualize or run it with the different methods qiskit has. For example if we had a \"circuit.qasm\" file, then the result would be something like the following:"
   ]
  },
  {
   "cell_type": "code",
   "execution_count": 5,
   "metadata": {},
   "outputs": [
    {
     "name": "stdout",
     "output_type": "stream",
     "text": [
      "\n",
      " The results are: {'0': 47, '1': 53}\n",
      "\n"
     ]
    }
   ],
   "source": [
    "from qiskit import *\n",
    "newQc = QuantumCircuit.from_qasm_file(\"circuit.qasm\")\n",
    "backend = BasicAer.get_backend('qasm_simulator')\n",
    "job = execute(newQc, backend, shots=100)\n",
    "result = job.result()\n",
    "print(\"\\n The results are: \" + str(result.get_counts(newQc)) + \"\\n\")"
   ]
  },
  {
   "cell_type": "markdown",
   "metadata": {},
   "source": [
    "## Example: Construction of a toffoli gate.\n",
    "\n",
    "In one of my [previous posts](https://mentesniker.github.io/Quantum-computer-science-tutorials/) I created a toffoli gate from scratch. We'll implement it now using OpenQasm. First of all, let's do a little recap of the toffoli gate. When [we presented the CNOT gate](https://mentesniker.github.io/Quantum-computer-science-tutorials/introduction01.html) we said something like: if the controller qubit is one then when apply an X-Gate on the target qubit. Now the question is, How can we construct a CNOT Gate which have two controller qubits. The answer is the toffoli gate. There are several ways to define a toffoli gate but we'll construct it accordingly to [1]. The main idea is the following:\n",
    "\n",
    "- If the controller qubits are 0 then nothing is going to happen because no CNOT gate will be applied and the T gates are going to cancell with the T dagger gates.\n",
    "- If one of the controller qubits are 1, then the T gates are going to cancell the rotation applied by the CNOT Gate.\n",
    "- If the two of the controller qubits are one then we are going to apply a rotation equivalent to the rotation of a Z-Gate. And after the application of the H-Gates we will have the desired result.\n",
    "\n",
    "Now, let's build it with OpenQasm:\n",
    "\n",
    "```\n",
    "OPENQASM 2.0;\n",
    "include \"qelib1.inc\";\n",
    "qreg target[1];\n",
    "qreg controllers[2];\n",
    "creg b[3];\n",
    "x target[0];\n",
    "x controllers[0];\n",
    "h controllers[1];\n",
    "t controllers[1];\n",
    "cx controllers[0],controllers[1];\n",
    "tdg controllers[1];\n",
    "cx target[0],controllers[1];\n",
    "t controllers[1];\n",
    "cx controllers[0],controllers[1];\n",
    "tdg controllers[1];\n",
    "h controllers[1];\n",
    "barrier target[0],controllers[0],controllers[1];\n",
    "measure controllers[1] -> b[0];\n",
    "measure controllers[0] -> b[1];\n",
    "measure target[0] -> b[2];\n",
    "```"
   ]
  },
  {
   "cell_type": "markdown",
   "metadata": {},
   "source": [
    "And if we run it with oqi the result will be the following:\n",
    "\n",
    "```\n",
    "               ┌───┐                                             ░       ┌─┐\n",
    "     target_0: ┤ X ├───────────────────■─────────────────────────░───────┤M├\n",
    "               ├───┤                   │                         ░    ┌─┐└╥┘\n",
    "controllers_0: ┤ X ├───────■───────────┼─────────■───────────────░────┤M├─╫─\n",
    "               ├───┤┌───┐┌─┴─┐┌─────┐┌─┴─┐┌───┐┌─┴─┐┌─────┐┌───┐ ░ ┌─┐└╥┘ ║ \n",
    "controllers_1: ┤ H ├┤ T ├┤ X ├┤ TDG ├┤ X ├┤ T ├┤ X ├┤ TDG ├┤ H ├─░─┤M├─╫──╫─\n",
    "               └───┘└───┘└───┘└─────┘└───┘└───┘└───┘└─────┘└───┘ ░ └╥┘ ║  ║ \n",
    "          b: 3/═════════════════════════════════════════════════════╩══╩══╩═\n",
    "                                                                    0  1  2 \n",
    "\n",
    " The results are: {'111': 100}\n",
    "```"
   ]
  },
  {
   "cell_type": "markdown",
   "metadata": {},
   "source": [
    "## References:\n",
    "\n",
    "[1] Maslov, Dmitri. (2015). On the advantages of using relative phase Toffolis with an application to multiple control Toffoli optimization. Physical Review A. 93. 10.1103/PhysRevA.93.022311."
   ]
  }
 ],
 "metadata": {
  "kernelspec": {
   "display_name": "Python 3",
   "language": "python",
   "name": "python3"
  },
  "language_info": {
   "codemirror_mode": {
    "name": "ipython",
    "version": 3
   },
   "file_extension": ".py",
   "mimetype": "text/x-python",
   "name": "python",
   "nbconvert_exporter": "python",
   "pygments_lexer": "ipython3",
   "version": "3.8.5"
  }
 },
 "nbformat": 4,
 "nbformat_minor": 4
}
