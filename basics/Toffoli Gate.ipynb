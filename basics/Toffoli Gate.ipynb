{
 "cells": [
  {
   "cell_type": "markdown",
   "metadata": {},
   "source": [
    "## TOFFOLY GATE"
   ]
  },
  {
   "cell_type": "code",
   "execution_count": 28,
   "metadata": {},
   "outputs": [
    {
     "data": {
      "text/html": [
       "<pre style=\"word-wrap: normal;white-space: pre;background: #fff0;line-height: 1.1;font-family: &quot;Courier New&quot;,Courier,monospace\">                     ┌───┐                                             ░       »\n",
       "     target_qubit_0: ┤ X ├───────────────────■─────────────────────────░───────»\n",
       "                     ├───┤                   │                         ░    ┌─┐»\n",
       "controller_qubits_0: ┤ X ├───────■───────────┼─────────■───────────────░────┤M├»\n",
       "                     ├───┤┌───┐┌─┴─┐┌─────┐┌─┴─┐┌───┐┌─┴─┐┌─────┐┌───┐ ░ ┌─┐└╥┘»\n",
       "controller_qubits_1: ┤ H ├┤ T ├┤ X ├┤ TDG ├┤ X ├┤ T ├┤ X ├┤ TDG ├┤ H ├─░─┤M├─╫─»\n",
       "                     └───┘└───┘└───┘└─────┘└───┘└───┘└───┘└─────┘└───┘ ░ └╥┘ ║ »\n",
       "       output_bit: 3/═════════════════════════════════════════════════════╩══╩═»\n",
       "                                                                          2  1 »\n",
       "«                     ┌─┐\n",
       "«     target_qubit_0: ┤M├\n",
       "«                     └╥┘\n",
       "«controller_qubits_0: ─╫─\n",
       "«                      ║ \n",
       "«controller_qubits_1: ─╫─\n",
       "«                      ║ \n",
       "«       output_bit: 3/═╩═\n",
       "«                      0 </pre>"
      ],
      "text/plain": [
       "                     ┌───┐                                             ░       »\n",
       "     target_qubit_0: ┤ X ├───────────────────■─────────────────────────░───────»\n",
       "                     ├───┤                   │                         ░    ┌─┐»\n",
       "controller_qubits_0: ┤ X ├───────■───────────┼─────────■───────────────░────┤M├»\n",
       "                     ├───┤┌───┐┌─┴─┐┌─────┐┌─┴─┐┌───┐┌─┴─┐┌─────┐┌───┐ ░ ┌─┐└╥┘»\n",
       "controller_qubits_1: ┤ H ├┤ T ├┤ X ├┤ TDG ├┤ X ├┤ T ├┤ X ├┤ TDG ├┤ H ├─░─┤M├─╫─»\n",
       "                     └───┘└───┘└───┘└─────┘└───┘└───┘└───┘└─────┘└───┘ ░ └╥┘ ║ »\n",
       "       output_bit: 3/═════════════════════════════════════════════════════╩══╩═»\n",
       "                                                                          2  1 »\n",
       "«                     ┌─┐\n",
       "«     target_qubit_0: ┤M├\n",
       "«                     └╥┘\n",
       "«controller_qubits_0: ─╫─\n",
       "«                      ║ \n",
       "«controller_qubits_1: ─╫─\n",
       "«                      ║ \n",
       "«       output_bit: 3/═╩═\n",
       "«                      0 "
      ]
     },
     "execution_count": 28,
     "metadata": {},
     "output_type": "execute_result"
    }
   ],
   "source": [
    "from qiskit import QuantumCircuit, QuantumRegister, Aer, execute, ClassicalRegister\n",
    "from qiskit.ignis.verification.topological_codes import RepetitionCode\n",
    "from qiskit.ignis.verification.topological_codes import lookuptable_decoding\n",
    "from qiskit.ignis.verification.topological_codes import GraphDecoder\n",
    "from qiskit.providers.aer.noise import NoiseModel\n",
    "from qiskit.providers.aer.noise.errors import pauli_error, depolarizing_error\n",
    "from qiskit.ignis.mitigation.measurement import (complete_meas_cal,CompleteMeasFitter)\n",
    "from qiskit.visualization import plot_histogram\n",
    "import random\n",
    "\n",
    "backend = Aer.get_backend('qasm_simulator')\n",
    "cb = QuantumRegister(1,'target_qubit')\n",
    "lq = QuantumRegister(2,'controller_qubits')\n",
    "out = ClassicalRegister(3,'output_bit')\n",
    "mycircuit = QuantumCircuit(cb,lq,out)\n",
    "mycircuit.x(0)\n",
    "mycircuit.x(1)\n",
    "mycircuit.h(2)\n",
    "mycircuit.t(2)\n",
    "mycircuit.cx(1,2)\n",
    "mycircuit.tdg(2)\n",
    "mycircuit.cx(0,2)\n",
    "mycircuit.t(2)\n",
    "mycircuit.cx(1,2)\n",
    "mycircuit.tdg(2)\n",
    "mycircuit.h(2)\n",
    "mycircuit.barrier()\n",
    "mycircuit.measure(2,2)\n",
    "mycircuit.measure(1,1)\n",
    "mycircuit.measure(0,0)\n",
    "mycircuit.draw()"
   ]
  },
  {
   "cell_type": "code",
   "execution_count": 29,
   "metadata": {},
   "outputs": [
    {
     "data": {
      "image/png": "[encoded data removed]",
      "text/plain": [
       "<Figure size 504x360 with 1 Axes>"
      ]
     },
     "execution_count": 29,
     "metadata": {},
     "output_type": "execute_result"
    }
   ],
   "source": [
    "from qiskit import Aer, execute\n",
    "simulator = Aer.get_backend('qasm_simulator')\n",
    "counts = execute(mycircuit, backend=simulator, shots=1000).result().get_counts(mycircuit)\n",
    "from qiskit.visualization import plot_histogram\n",
    "plot_histogram(counts)"
   ]
  },
  {
   "cell_type": "code",
   "execution_count": 35,
   "metadata": {},
   "outputs": [
    {
     "data": {
      "text/html": [
       "<pre style=\"word-wrap: normal;white-space: pre;background: #fff0;line-height: 1.1;font-family: &quot;Courier New&quot;,Courier,monospace\">                     ┌───┐      ░                                        ░    »\n",
       "     target_qubit_0: ┤ X ├──────░─────────────────■──────────────────────░────»\n",
       "                     ├───┤      ░                 │                      ░    »\n",
       "controller_qubits_0: ┤ X ├──────░───────■─────────┼───────■──────────────░────»\n",
       "                     ├───┤┌───┐ ░ ┌───┐ │ ┌─────┐ │ ┌───┐ │ ┌─────┐┌───┐ ░ ┌─┐»\n",
       "controller_qubits_1: ┤ X ├┤ H ├─░─┤ T ├─■─┤ TDG ├─■─┤ T ├─■─┤ TDG ├┤ H ├─░─┤M├»\n",
       "                     └───┘└───┘ ░ └───┘   └─────┘   └───┘   └─────┘└───┘ ░ └╥┘»\n",
       "       output_bit: 3/═══════════════════════════════════════════════════════╩═»\n",
       "                                                                            2 »\n",
       "«                        ┌─┐\n",
       "«     target_qubit_0: ───┤M├\n",
       "«                     ┌─┐└╥┘\n",
       "«controller_qubits_0: ┤M├─╫─\n",
       "«                     └╥┘ ║ \n",
       "«controller_qubits_1: ─╫──╫─\n",
       "«                      ║  ║ \n",
       "«       output_bit: 3/═╩══╩═\n",
       "«                      1  0 </pre>"
      ],
      "text/plain": [
       "                     ┌───┐      ░                                        ░    »\n",
       "     target_qubit_0: ┤ X ├──────░─────────────────■──────────────────────░────»\n",
       "                     ├───┤      ░                 │                      ░    »\n",
       "controller_qubits_0: ┤ X ├──────░───────■─────────┼───────■──────────────░────»\n",
       "                     ├───┤┌───┐ ░ ┌───┐ │ ┌─────┐ │ ┌───┐ │ ┌─────┐┌───┐ ░ ┌─┐»\n",
       "controller_qubits_1: ┤ X ├┤ H ├─░─┤ T ├─■─┤ TDG ├─■─┤ T ├─■─┤ TDG ├┤ H ├─░─┤M├»\n",
       "                     └───┘└───┘ ░ └───┘   └─────┘   └───┘   └─────┘└───┘ ░ └╥┘»\n",
       "       output_bit: 3/═══════════════════════════════════════════════════════╩═»\n",
       "                                                                            2 »\n",
       "«                        ┌─┐\n",
       "«     target_qubit_0: ───┤M├\n",
       "«                     ┌─┐└╥┘\n",
       "«controller_qubits_0: ┤M├─╫─\n",
       "«                     └╥┘ ║ \n",
       "«controller_qubits_1: ─╫──╫─\n",
       "«                      ║  ║ \n",
       "«       output_bit: 3/═╩══╩═\n",
       "«                      1  0 "
      ]
     },
     "execution_count": 35,
     "metadata": {},
     "output_type": "execute_result"
    }
   ],
   "source": [
    "backend = Aer.get_backend('qasm_simulator')\n",
    "cb = QuantumRegister(1,'target_qubit')\n",
    "lq = QuantumRegister(2,'controller_qubits')\n",
    "out = ClassicalRegister(3,'output_bit')\n",
    "mycircuit = QuantumCircuit(cb,lq,out)\n",
    "mycircuit.x(0)\n",
    "mycircuit.x(1)\n",
    "mycircuit.x(2)\n",
    "mycircuit.barrier()\n",
    "mycircuit.h(2)\n",
    "mycircuit.t(2)\n",
    "mycircuit.cz(1,2)\n",
    "mycircuit.tdg(2)\n",
    "mycircuit.cz(0,2)\n",
    "mycircuit.t(2)\n",
    "mycircuit.cz(1,2)\n",
    "mycircuit.tdg(2)\n",
    "mycircuit.h(2)\n",
    "mycircuit.barrier()\n",
    "mycircuit.measure(2,2)\n",
    "mycircuit.measure(1,1)\n",
    "mycircuit.measure(0,0)\n",
    "mycircuit.draw()"
   ]
  },
  {
   "cell_type": "code",
   "execution_count": 36,
   "metadata": {},
   "outputs": [
    {
     "data": {
      "image/png": "[encoded data removed]",
      "text/plain": [
       "<Figure size 504x360 with 1 Axes>"
      ]
     },
     "execution_count": 36,
     "metadata": {},
     "output_type": "execute_result"
    }
   ],
   "source": [
    "from qiskit import Aer, execute\n",
    "simulator = Aer.get_backend('qasm_simulator')\n",
    "counts = execute(mycircuit, backend=simulator, shots=1000).result().get_counts(mycircuit)\n",
    "from qiskit.visualization import plot_histogram\n",
    "plot_histogram(counts)"
   ]
  },
  {
   "cell_type": "markdown",
   "metadata": {},
   "source": [
    "## References:\n",
    "@article{Maslov_2016,\n",
    "   title={Advantages of using relative-phase Toffoli gates with an application to multiple control Toffoli optimization},\n",
    "   volume={93},\n",
    "   ISSN={2469-9934},\n",
    "   url={http://dx.doi.org/10.1103/PhysRevA.93.022311},\n",
    "   DOI={10.1103/physreva.93.022311},\n",
    "   number={2},\n",
    "   journal={Physical Review A},\n",
    "   publisher={American Physical Society (APS)},\n",
    "   author={Maslov, Dmitri},\n",
    "   year={2016},\n",
    "   month={Feb}\n",
    "}"
   ]
  }
 ],
 "metadata": {
  "kernelspec": {
   "display_name": "Python 3",
   "language": "python",
   "name": "python3"
  },
  "language_info": {
   "codemirror_mode": {
    "name": "ipython",
    "version": 3
   },
   "file_extension": ".py",
   "mimetype": "text/x-python",
   "name": "python",
   "nbconvert_exporter": "python",
   "pygments_lexer": "ipython3",
   "version": "3.8.5"
  }
 },
 "nbformat": 4,
 "nbformat_minor": 4
}
