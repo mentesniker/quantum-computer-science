{
 "metadata": {
  "language_info": {
   "codemirror_mode": {
    "name": "ipython",
    "version": 3
   },
   "file_extension": ".py",
   "mimetype": "text/x-python",
   "name": "python",
   "nbconvert_exporter": "python",
   "pygments_lexer": "ipython3",
   "version": "3.8.5"
  },
  "orig_nbformat": 2,
  "kernelspec": {
   "name": "python385jvsc74a57bd031f2aee4e71d21fbe5cf8b01ff0e069b9275f58929596ceb00d14d90e3e16cd6",
   "display_name": "Python 3.8.5 64-bit"
  },
  "metadata": {
   "interpreter": {
    "hash": "31f2aee4e71d21fbe5cf8b01ff0e069b9275f58929596ceb00d14d90e3e16cd6"
   }
  }
 },
 "nbformat": 4,
 "nbformat_minor": 2,
 "cells": [
  {
   "source": [
    "# Optimal Encryption of Quantum Bits"
   ],
   "cell_type": "markdown",
   "metadata": {}
  },
  {
   "cell_type": "code",
   "execution_count": 72,
   "metadata": {},
   "outputs": [],
   "source": [
    "from qiskit import QuantumCircuit\n",
    "from qiskit import BasicAer\n",
    "from qiskit import execute"
   ]
  },
  {
   "cell_type": "code",
   "execution_count": 73,
   "metadata": {},
   "outputs": [],
   "source": [
    "def encryption(qc, initialString, pk):\n",
    "    for bit in range(0,len(initialString)):\n",
    "        if(initialString[bit] == '1'):\n",
    "            qc.x(bit)\n",
    "        if(pk[2*bit] == '1'):\n",
    "            qc.z(bit)\n",
    "        if(pk[2*bit+1] == '1'):\n",
    "            qc.x(bit)\n",
    "    return qc\n",
    "\n",
    "def decryption(qc, lenCypher, pk):\n",
    "    for bit in range(0,lenCypher):\n",
    "        if(pk[2*bit] == '1'):\n",
    "            qc.z(bit)\n",
    "        if(pk[2*bit+1] == '1'):\n",
    "            qc.x(bit)\n",
    "    return qc\n",
    "\n",
    "def generate_random_key(length,backend):\n",
    "    pk = ''\n",
    "    for i in range(0,2*length):\n",
    "        qc = QuantumCircuit(1,1)\n",
    "        qc.h(0)\n",
    "        qc.measure(0,0)\n",
    "        counts = execute(qc, backend=backend, shots=1).result().get_counts(qc)\n",
    "        pk += list(counts.keys())[0]\n",
    "    return pk\n",
    "\n",
    "def run_circuit(qc,backend):\n",
    "    job = execute(qc, backend, shots=100)\n",
    "    result = job.result()\n",
    "    return result.get_counts(qc)"
   ]
  },
  {
   "cell_type": "code",
   "execution_count": 74,
   "metadata": {},
   "outputs": [],
   "source": [
    "initialString = '0110'\n",
    "pk = generate_random_key(len(initialString),backend)\n",
    "encrypt = QuantumCircuit(len(initialString),len(initialString))\n",
    "backend = BasicAer.get_backend('qasm_simulator')"
   ]
  },
  {
   "cell_type": "code",
   "execution_count": 75,
   "metadata": {},
   "outputs": [
    {
     "output_type": "stream",
     "name": "stdout",
     "text": [
      "the encrypted string is: {'1011': 100}\nthe original string is: {'0110': 100}\n"
     ]
    }
   ],
   "source": [
    "encryption(encrypt,initialString,pk)\n",
    "encrypt.barrier()\n",
    "encrypt.measure([0,1,2,3],[0,1,2,3])\n",
    "\n",
    "print(\"the encrypted string is: \" + str(run_circuit(encrypt,backend)))\n",
    "encrypt.barrier()\n",
    "\n",
    "decryption(encrypt,len(encrypt.qubits),pk)\n",
    "\n",
    "encrypt.barrier()\n",
    "\n",
    "encrypt.measure([0,1,2,3],[0,1,2,3])\n",
    "\n",
    "print(\"the original string is: \" + str(run_circuit(encrypt,backend)))"
   ]
  },
  {
   "cell_type": "code",
   "execution_count": 69,
   "metadata": {},
   "outputs": [
    {
     "output_type": "execute_result",
     "data": {
      "text/plain": [
       "     ┌───┐      ░ ┌─┐          ░ ┌───┐      ░ ┌─┐         \n",
       "q_0: ┤ Z ├──────░─┤M├──────────░─┤ Z ├──────░─┤M├─────────\n",
       "     ├───┤      ░ └╥┘┌─┐       ░ └───┘      ░ └╥┘┌─┐      \n",
       "q_1: ┤ X ├──────░──╫─┤M├───────░────────────░──╫─┤M├──────\n",
       "     ├───┤┌───┐ ░  ║ └╥┘┌─┐    ░ ┌───┐      ░  ║ └╥┘┌─┐   \n",
       "q_2: ┤ X ├┤ Z ├─░──╫──╫─┤M├────░─┤ Z ├──────░──╫──╫─┤M├───\n",
       "     ├───┤├───┤ ░  ║  ║ └╥┘┌─┐ ░ ├───┤┌───┐ ░  ║  ║ └╥┘┌─┐\n",
       "q_3: ┤ Z ├┤ X ├─░──╫──╫──╫─┤M├─░─┤ Z ├┤ X ├─░──╫──╫──╫─┤M├\n",
       "     └───┘└───┘ ░  ║  ║  ║ └╥┘ ░ └───┘└───┘ ░  ║  ║  ║ └╥┘\n",
       "c: 4/══════════════╩══╩══╩══╩══════════════════╩══╩══╩══╩═\n",
       "                   0  1  2  3                  0  1  2  3 "
      ],
      "text/html": "<pre style=\"word-wrap: normal;white-space: pre;background: #fff0;line-height: 1.1;font-family: &quot;Courier New&quot;,Courier,monospace\">     ┌───┐      ░ ┌─┐          ░ ┌───┐      ░ ┌─┐         \nq_0: ┤ Z ├──────░─┤M├──────────░─┤ Z ├──────░─┤M├─────────\n     ├───┤      ░ └╥┘┌─┐       ░ └───┘      ░ └╥┘┌─┐      \nq_1: ┤ X ├──────░──╫─┤M├───────░────────────░──╫─┤M├──────\n     ├───┤┌───┐ ░  ║ └╥┘┌─┐    ░ ┌───┐      ░  ║ └╥┘┌─┐   \nq_2: ┤ X ├┤ Z ├─░──╫──╫─┤M├────░─┤ Z ├──────░──╫──╫─┤M├───\n     ├───┤├───┤ ░  ║  ║ └╥┘┌─┐ ░ ├───┤┌───┐ ░  ║  ║ └╥┘┌─┐\nq_3: ┤ Z ├┤ X ├─░──╫──╫──╫─┤M├─░─┤ Z ├┤ X ├─░──╫──╫──╫─┤M├\n     └───┘└───┘ ░  ║  ║  ║ └╥┘ ░ └───┘└───┘ ░  ║  ║  ║ └╥┘\nc: 4/══════════════╩══╩══╩══╩══════════════════╩══╩══╩══╩═\n                   0  1  2  3                  0  1  2  3 </pre>"
     },
     "metadata": {},
     "execution_count": 69
    }
   ],
   "source": [
    "encrypt.draw()"
   ]
  },
  {
   "source": [
    "## References\n",
    "- Boykin, P. & Roychowdhury, Vwani. (2004). Optimal Encryption of Quantum Bits. Physical Review A. 67. 10.1103/PhysRevA.67.042317. "
   ],
   "cell_type": "markdown",
   "metadata": {}
  }
 ]
}