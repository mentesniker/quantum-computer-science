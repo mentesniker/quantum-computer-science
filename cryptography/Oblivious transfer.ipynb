{
 "cells": [
  {
   "cell_type": "markdown",
   "metadata": {},
   "source": [
    "# Oblivious transfer"
   ]
  },
  {
   "cell_type": "markdown",
   "metadata": {},
   "source": [
    "## Problem description:\n",
    "Suppose that Alice wants to send two messages to Bob. Also, She wants to give the option to Bob to choose one of Her messages but She also wants to forbid the simultaneous reading of the two messages by Bob. That is, Bob can only read one of the messages depending on Bob's choice. Now, Bob doesn't want to make his choice visible for Alice. That is, only Bob can know what was his choice. To solve this problem we have to make the assumption that Alice and Bob will play by the rules no matter what. That is, Alice and Bob won't try to find the secret information of the other person."
   ]
  },
  {
   "cell_type": "markdown",
   "metadata": {},
   "source": [
    "## Example:\n",
    "Supose that Alice wants to send one of the two strings \"I like dogs\" and \"I like cats\" to Bob. Bob made his choice to read the message 0. So Alice sends them both encrypted (to avoid Alice knowing the choice of Bob) and Bob will only be able to read the message 0 but not both. The steps they have to follow are the following."
   ]
  },
  {
   "cell_type": "markdown",
   "metadata": {},
   "source": [
    "Step zero: Imports and the declaration of two functions to convert from strings to bits and from bits to strings"
   ]
  },
  {
   "cell_type": "code",
   "execution_count": 44,
   "metadata": {},
   "outputs": [],
   "source": [
    "%matplotlib inline\n",
    "# Importing standard Qiskit libraries\n",
    "from qiskit import QuantumCircuit, execute, Aer, IBMQ\n",
    "from qiskit.compiler import transpile, assemble\n",
    "from qiskit.tools.jupyter import *\n",
    "from random import randint\n",
    "import hashlib\n",
    "def tobits(s):\n",
    "    result = []\n",
    "    for c in s:\n",
    "        bits = bin(ord(c))[2:]\n",
    "        bits = '00000000'[len(bits):] + bits\n",
    "        result.extend([int(b) for b in bits])\n",
    "    return ''.join([str(x) for x in result])\n",
    "\n",
    "def frombits(bits):\n",
    "    chars = []\n",
    "    for b in range(int(len(bits) / 8)):\n",
    "        byte = bits[b*8:(b+1)*8]\n",
    "        chars.append(chr(int(''.join([str(bit) for bit in byte]), 2)))\n",
    "    return ''.join(chars)"
   ]
  },
  {
   "cell_type": "markdown",
   "metadata": {},
   "source": [
    "First step: Alice chooses two messages. Additionally, She creates a merge of the messages, appending one on top of the other. Then, She sends them encrypted to Bob. The encryption works as follows: For each bit in the bit String, She choses a random number in the set {0,1}. If the number is 1, She encrypts the choosen bit and She leaves the bit without encryption otherwise. Notice that it would be impossible for Bob to know which bits were encrypted and which weren't. And also, it would be imposible for Bob to know what message was on top of the other for the messageMerge. "
   ]
  },
  {
   "cell_type": "code",
   "execution_count": 56,
   "metadata": {},
   "outputs": [],
   "source": [
    "#Alice cell, Bob can't see what's going in on here\n",
    "m0 = tobits(\"I like dogs\") \n",
    "m1 = tobits(\"I like cats\")\n",
    "messageMerge = m0+m1\n",
    "Alice_bases = [randint(0,1) for x in range(len(messageMerge))]\n",
    "qubits = list()\n",
    "for i in range(len(Alice_bases)):\n",
    "    mycircuit = QuantumCircuit(1,1)\n",
    "    if(Alice_bases[i] == 0):\n",
    "        if(messageMerge[i] == \"1\"):\n",
    "            mycircuit.x(0)\n",
    "    else:\n",
    "        if(messageMerge[i] == \"0\"):\n",
    "            mycircuit.h(0)\n",
    "        else:\n",
    "            mycircuit.x(0)\n",
    "            mycircuit.h(0)\n",
    "    qubits.append(mycircuit)"
   ]
  },
  {
   "cell_type": "markdown",
   "metadata": {},
   "source": [
    "Second step: Bob receives Alice qubits and then He meassures them according to a random selection of basis. Also,  Bob chooses what message He will want to obtain from Alice. In the example below, He chooses the message 0."
   ]
  },
  {
   "cell_type": "code",
   "execution_count": 57,
   "metadata": {},
   "outputs": [],
   "source": [
    "#Bob cell, Alice can't see what's going in on here\n",
    "Bob_bases = [randint(0,1) for x in range(176)]\n",
    "backend = Aer.get_backend('qasm_simulator')\n",
    "measurements = list()\n",
    "choice = 0\n",
    "for i in range(len(Bob_bases)):\n",
    "    qubit = qubits[i]\n",
    "    if(Bob_bases[i] == 0):\n",
    "        qubit.measure(0,0)\n",
    "    else:\n",
    "        qubit.h(0)\n",
    "        qubit.measure(0,0)\n",
    "    result = execute(qubit, backend, shots=1, memory=True).result()\n",
    "    measurements.append(int(result.get_memory()[0]))"
   ]
  },
  {
   "cell_type": "markdown",
   "metadata": {},
   "source": [
    "Third step: Alice sends to Bob the basis She used to measure. Then Bob stores the indexes of the basis that correspond to the equal values between the ones sent by Alice and the random basis generated by Bob. Bob decides to store the set of the equal index in a set called I1 and the set of different index in a set called I0."
   ]
  },
  {
   "cell_type": "code",
   "execution_count": 58,
   "metadata": {},
   "outputs": [],
   "source": [
    "#Bob cell, Alice can't see what's going in on here\n",
    "I0 = list()\n",
    "I1 = list()\n",
    "if(choice == 0):    \n",
    "    for i in range(len(Alice_bases)):\n",
    "        if(Alice_bases[i] == Bob_bases[i]):\n",
    "            I0.append(i)\n",
    "        else:\n",
    "            I1.append(i)\n",
    "else:\n",
    "    for i in range(len(Alice_bases)):\n",
    "        if(Alice_bases[i] == Bob_bases[i]):\n",
    "            I1.append(i)\n",
    "        else:\n",
    "            I0.append(i)"
   ]
  },
  {
   "cell_type": "markdown",
   "metadata": {},
   "source": [
    "Four step: Alice receives I1 and I0. Note that Alice doesn't know if I0 is the set of the equal basis or the set of distinct basis. And the same goes for I1. Then she prepares her final messages that She will send to Bob. The preparation consists in calculating a hash of the original messages in the indexes that Bob sent in I0 and I1. Then She applies an XOR between the bits of the hash and the bits of the original message."
   ]
  },
  {
   "cell_type": "code",
   "execution_count": 59,
   "metadata": {},
   "outputs": [],
   "source": [
    "#Alice cell, Bob can't see what's going in on here\n",
    "x0 = list()\n",
    "for x in I0:\n",
    "    x0.append(messageMerge[x])\n",
    "x1 = list()\n",
    "for x in I1:\n",
    "    x1.append(messageMerge[x])\n",
    "fx0 = ''.join(format(ord(i), 'b') for i in hashlib.sha224(''.join(x0).encode('utf-8')).hexdigest())\n",
    "fx1 = ''.join(format(ord(i), 'b') for i in hashlib.sha224(''.join(x1).encode('utf-8')).hexdigest())\n",
    "s0 = ''\n",
    "s1 = ''\n",
    "for bit in range(len(m0)):\n",
    "    s0 += str(int(fx0[bit]) ^ int(m0[bit]))\n",
    "for bit in range(len(m1)):\n",
    "    s1 += str(int(fx1[bit]) ^ int(m1[bit]))"
   ]
  },
  {
   "cell_type": "markdown",
   "metadata": {},
   "source": [
    "Final step: Bob receives Alice messages S0 and S1. Then, He calculates the hash of the correct measurements that He obtained in the second step. Note that this hash is exactly the same as one of the two hashes that Alice have. Because both of them share the same string that created the hash. Then, He applies an XOR between the hash and the values that Alice sent him. Because only one of the two hashes were equals then Bob will be able to decipher one of Alice messages. And Alice didn't knew during the whole protocol the choice of Bob. So, the protocol is now completed and you can see in the output that it works quite well."
   ]
  },
  {
   "cell_type": "code",
   "execution_count": 60,
   "metadata": {},
   "outputs": [
    {
     "name": "stdout",
     "output_type": "stream",
     "text": [
      "Alice message was: I like dogs\n"
     ]
    }
   ],
   "source": [
    "xB0 = list()\n",
    "if(choice == 0):\n",
    "    for x in I0:\n",
    "        xB0.append(measurements[x])\n",
    "else:\n",
    "    for x in I1:\n",
    "        xB0.append(measurements[x])\n",
    "fxB0 = ''.join(format(ord(i), 'b') for i in hashlib.sha224(''.join([str(x) for x in xB0]).encode('utf-8')).hexdigest())\n",
    "mB0 = bytearray()\n",
    "if(choice == 0):\n",
    "    for bit in range(len(s0)):\n",
    "        mB0.append(int(fxB0[bit]) ^ int(s0[bit]))\n",
    "    print(\"Alice message was: \" + frombits(mB0))\n",
    "else:\n",
    "    for bit in range(len(s1)):\n",
    "        mB0.append(int(fxB0[bit]) ^ int(s1[bit]))\n",
    "    print(\"Alice message was: \" + frombits(mB0))"
   ]
  },
  {
   "cell_type": "markdown",
   "metadata": {},
   "source": [
    "## Why it doesn't work if Alice decides to cheat ?\n",
    "\n",
    "If Alice entangles her qubits with another pair and she send them to Bob this could happend:\n",
    "- Bob receives the entangle qubit and make a meassurement. At this point Alice know exactly which bits were meassured by Bob.\n",
    "- Then Alice send the basis just like the protocol says.\n",
    "- When alice receives I0 and I1, She knows exactly what was the desition of Bob because She got the Bob message from the entangle pair. The only thing she have to do is to check if the correct meassure qubits are in the message I0 or in the message I1."
   ]
  },
  {
   "cell_type": "markdown",
   "metadata": {},
   "source": [
    "## References:\n",
    "Broadbent, A., Schaffner, C. Quantum cryptography beyond quantum key distribution. Des. Codes Cryptogr. 78, 351–382 (2016). https://doi.org/10.1007/s10623-015-0157-4"
   ]
  }
 ],
 "metadata": {
  "kernelspec": {
   "display_name": "Python 3",
   "language": "python",
   "name": "python3"
  },
  "language_info": {
   "codemirror_mode": {
    "name": "ipython",
    "version": 3
   },
   "file_extension": ".py",
   "mimetype": "text/x-python",
   "name": "python",
   "nbconvert_exporter": "python",
   "pygments_lexer": "ipython3",
   "version": "3.8.10"
  }
 },
 "nbformat": 4,
 "nbformat_minor": 4
}
