{
 "cells": [
  {
   "cell_type": "markdown",
   "metadata": {},
   "source": [
    "# Bit commitment for thrusting parties"
   ]
  },
  {
   "cell_type": "markdown",
   "metadata": {},
   "source": [
    "Bit commitment is an essential and pretty simple primitive in cryptography. The protocol could be summarice as Alice \n",
    "wants to send on of two messages to Bob but She wants to forbid acces to it until She decides to discover the message.\n",
    "Simple and intuitive. This protocol works like a charm in modern cryptography but it doesn't work in quantum\n",
    "cryptography unless we make certain assumptions. In this case we make the assumption that both Bob and Alice\n",
    "are not malintended users."
   ]
  },
  {
   "cell_type": "markdown",
   "metadata": {},
   "source": [
    "First let's define some imports and two auxiliary function to convert from bits to strings and vice versa."
   ]
  },
  {
   "cell_type": "code",
   "execution_count": 1,
   "metadata": {},
   "outputs": [],
   "source": [
    "%matplotlib inline\n",
    "# Importing standard Qiskit libraries\n",
    "from qiskit import QuantumCircuit, execute, Aer, IBMQ\n",
    "from qiskit.compiler import transpile, assemble\n",
    "from qiskit.tools.jupyter import *\n",
    "from random import randint\n",
    "import hashlib\n",
    "def tobits(s):\n",
    "    result = []\n",
    "    for c in s:\n",
    "        bits = bin(ord(c))[2:]\n",
    "        bits = '00000000'[len(bits):] + bits\n",
    "        result.extend([int(b) for b in bits])\n",
    "    return ''.join([str(x) for x in result])\n",
    "\n",
    "def frombits(bits):\n",
    "    chars = []\n",
    "    for b in range(int(len(bits) / 8)):\n",
    "        byte = bits[b*8:(b+1)*8]\n",
    "        chars.append(chr(int(''.join([str(bit) for bit in byte]), 2)))\n",
    "    return ''.join(chars)"
   ]
  },
  {
   "cell_type": "markdown",
   "metadata": {},
   "source": [
    "In the next cell Alice choses the message She wants to send to Bob then She encrypt Her decision and sends it to Bob. The encryption works as follows: She choses a random number between 0 and 1 if the number is 1 She encrypts the choosen bit, and She leaves the bit without encryption otherwise. Notice that it would be impossible for Bob to know which bit were encrypted and which weren't."
   ]
  },
  {
   "cell_type": "code",
   "execution_count": 2,
   "metadata": {},
   "outputs": [],
   "source": [
    "#Alice cell, Bob can't see what's going in on here\n",
    "m0 = tobits(\"Yes I want to go to the cinema with you!!!\") \n",
    "m1 = tobits(\"No I dont want to go to the cinema with you...\")\n",
    "messageToSend = m1\n",
    "Alice_bases = [randint(0,1) for x in range(len(messageToSend))]\n",
    "qubits = list()\n",
    "for i in range(len(Alice_bases)):\n",
    "    mycircuit = QuantumCircuit(1,1)\n",
    "    if(Alice_bases[i] == 0):\n",
    "        if(messageToSend[i] == \"1\"):\n",
    "            mycircuit.x(0)\n",
    "    else:\n",
    "        if(messageToSend[i] == \"0\"):\n",
    "            mycircuit.h(0)\n",
    "        else:\n",
    "            mycircuit.x(0)\n",
    "            mycircuit.h(0)\n",
    "    qubits.append(mycircuit)"
   ]
  },
  {
   "cell_type": "markdown",
   "metadata": {},
   "source": [
    "In the final step Bob receives the qubits from Alice and after a while She sends to him the basis. Then Bob proceeds to decipher the original message. This consists in Appliying an H gate if the Alice basis says 1. After applying these gates Bob will do a measurements and He'll be able to recover the original message."
   ]
  },
  {
   "cell_type": "code",
   "execution_count": 3,
   "metadata": {},
   "outputs": [
    {
     "name": "stdout",
     "output_type": "stream",
     "text": [
      "Alice message was: No I dont want to go to the cinema with you...\n"
     ]
    }
   ],
   "source": [
    "#Bob cell, Alice can't see what's going in on here\n",
    "backend = Aer.get_backend('qasm_simulator')\n",
    "measurements = list()\n",
    "for i in range(len(Alice_bases)):\n",
    "    qubit = qubits[i]\n",
    "    if(Alice_bases[i] == 0):\n",
    "        qubit.measure(0,0)\n",
    "    else:\n",
    "        qubit.h(0)\n",
    "        qubit.measure(0,0)\n",
    "    result = execute(qubit, backend, shots=1, memory=True).result()\n",
    "    measurements.append(int(result.get_memory()[0]))\n",
    "print(\"Alice message was: \" + frombits(measurements))"
   ]
  },
  {
   "cell_type": "markdown",
   "metadata": {},
   "source": [
    "## Why doesn't work if Alice cheats in the protocol?"
   ]
  },
  {
   "cell_type": "markdown",
   "metadata": {},
   "source": [
    "In the first step when Alice encrypts her bits She could decide to cheat in the following way:\n",
    "She makes an entangle pair of qubits with her qubits. Then if she decided to change her answer. She does a measurement wich causses that Bob qubits meassure the same. This violates the protocol assumptions that was: Alice can't change the message once She sends it.\n",
    "\n",
    "Also, She could delay her message which contains the basis making impossible for Bob to know Alice message. So the conditions of the problem are violated once again.\n",
    "\n",
    "The final problem comes when Alice delays the sending long enough. Due to the noisy quantum computers of today the original message would be so noisy that it would be impossible for Bob to recover the original message due to the noise in the qubits."
   ]
  }
 ],
 "metadata": {
  "kernelspec": {
   "display_name": "Python 3",
   "language": "python",
   "name": "python3"
  },
  "language_info": {
   "codemirror_mode": {
    "name": "ipython",
    "version": 3
   },
   "file_extension": ".py",
   "mimetype": "text/x-python",
   "name": "python",
   "nbconvert_exporter": "python",
   "pygments_lexer": "ipython3",
   "version": "3.8.5"
  }
 },
 "nbformat": 4,
 "nbformat_minor": 4
}