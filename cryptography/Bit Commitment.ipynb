{
 "cells": [
  {
   "cell_type": "markdown",
   "metadata": {},
   "source": [
    "# Bit commitment for thrusting parties"
   ]
  },
  {
   "cell_type": "markdown",
   "metadata": {},
   "source": [
    "Bit commitment is an essential and pretty simple primitive in cryptography. The protocol could be summarice as Alice \n",
    "wants to send one of two messages to Bob but She wants to forbid acces to it until She decides the correct time to discover the message. However, an important condition of the protocol is that once Alice sends her messages She can't change it.\n",
    "Simple and intuitive. This protocol works like a charm in modern cryptography but it doesn't work in quantum\n",
    "cryptography unless we make certain assumptions. In this case we make the assumption that both Bob and Alice\n",
    "are not malintended users."
   ]
  },
  {
   "cell_type": "markdown",
   "metadata": {},
   "source": [
    "First let's define some imports and two auxiliary function to convert from bits to strings and vice versa."
   ]
  },
  {
   "cell_type": "code",
   "execution_count": 1,
   "metadata": {},
   "outputs": [],
   "source": [
    "%matplotlib inline\n",
    "# Importing standard Qiskit libraries\n",
    "from qiskit import QuantumCircuit, execute, Aer, IBMQ\n",
    "from qiskit.compiler import transpile, assemble\n",
    "from qiskit.tools.jupyter import *\n",
    "from random import randint\n",
    "import hashlib\n",
    "def tobits(s):\n",
    "    result = []\n",
    "    for c in s:\n",
    "        bits = bin(ord(c))[2:]\n",
    "        bits = '00000000'[len(bits):] + bits\n",
    "        result.extend([int(b) for b in bits])\n",
    "    return ''.join([str(x) for x in result])\n",
    "\n",
    "def frombits(bits):\n",
    "    chars = []\n",
    "    for b in range(int(len(bits) / 8)):\n",
    "        byte = bits[b*8:(b+1)*8]\n",
    "        chars.append(chr(int(''.join([str(bit) for bit in byte]), 2)))\n",
    "    return ''.join(chars)"
   ]
  },
  {
   "cell_type": "markdown",
   "metadata": {},
   "source": [
    "In the next cell, Alice chooses the messages She wants to send to Bob then She encrypts Her decision and sends it to Bob. The encryption works as follows: For each bit in the bit String, She choses a random number in the set {0,1}. If the number is 1, She encrypts the choosen bit and She leaves the bit without encryption otherwise. Notice that it would be impossible for Bob to know which bits were encrypted and which weren't."
   ]
  },
  {
   "cell_type": "code",
   "execution_count": 2,
   "metadata": {},
   "outputs": [],
   "source": [
    "#Alice cell, Bob can't see what's going in on here\n",
    "m0 = tobits(\"Yes I want to go to the cinema with you!!!\") \n",
    "m1 = tobits(\"No I dont want to go to the cinema with you...\")\n",
    "messageToSend = m1\n",
    "Alice_bases = [randint(0,1) for x in range(len(messageToSend))]\n",
    "qubits = list()\n",
    "for i in range(len(Alice_bases)):\n",
    "    mycircuit = QuantumCircuit(1,1)\n",
    "    if(Alice_bases[i] == 0):\n",
    "        if(messageToSend[i] == \"1\"):\n",
    "            mycircuit.x(0)\n",
    "    else:\n",
    "        if(messageToSend[i] == \"0\"):\n",
    "            mycircuit.h(0)\n",
    "        else:\n",
    "            mycircuit.x(0)\n",
    "            mycircuit.h(0)\n",
    "    qubits.append(mycircuit)"
   ]
  },
  {
   "cell_type": "markdown",
   "metadata": {},
   "source": [
    "In the final step, Bob receives the qubits from Alice and after a while She sends the basis to him. Then Bob proceeds to decipher the original message. This consists in appliying an H gate if Alice's basis says 1. After applying these gates Bob will do some measurements and He'll be able to recover the original message."
   ]
  },
  {
   "cell_type": "code",
   "execution_count": 3,
   "metadata": {},
   "outputs": [
    {
     "name": "stdout",
     "output_type": "stream",
     "text": [
      "Alice message was: No I dont want to go to the cinema with you...\n"
     ]
    }
   ],
   "source": [
    "#Bob cell, Alice can't see what's going in on here\n",
    "backend = Aer.get_backend('qasm_simulator')\n",
    "measurements = list()\n",
    "for i in range(len(Alice_bases)):\n",
    "    qubit = qubits[i]\n",
    "    if(Alice_bases[i] == 0):\n",
    "        qubit.measure(0,0)\n",
    "    else:\n",
    "        qubit.h(0)\n",
    "        qubit.measure(0,0)\n",
    "    result = execute(qubit, backend, shots=1, memory=True).result()\n",
    "    measurements.append(int(result.get_memory()[0]))\n",
    "print(\"Alice message was: \" + frombits(measurements))"
   ]
  },
  {
   "cell_type": "markdown",
   "metadata": {},
   "source": [
    "## Why it doesn't work if Alice cheats in the protocol?"
   ]
  },
  {
   "cell_type": "markdown",
   "metadata": {},
   "source": [
    "In the first step when Alice encrypts her bits She could decide to cheat in the following way:\n",
    "She makes an entangled pair of qubits with her qubits. Then if she decided to change her answer. She does a measurement, on her qubits, wich causes that Bob's qubits meassure the same as the Alice qubits. This violates the protocol assumptions that was: Alice can't change the message once She sends it.\n",
    "\n",
    "Also, She could delay her message which contains the basis making impossible for Bob to know Alice message. So the conditions of the problem are violated once again.\n",
    "\n",
    "The final problem comes when Alice delays the sending long enough. Due to the noisy quantum computers of today the original message would be so noisy that it would be impossible for Bob to recover the original message due to the noise in the qubits."
   ]
  },
  {
   "cell_type": "markdown",
   "metadata": {},
   "source": [
    "# References:\n",
    "Broadbent, A., Schaffner, C. Quantum cryptography beyond quantum key distribution. Des. Codes Cryptogr. 78, 351–382 (2016). https://doi.org/10.1007/s10623-015-0157-4"
   ]
  }
 ],
 "metadata": {
  "kernelspec": {
   "display_name": "Python 3",
   "language": "python",
   "name": "python3"
  },
  "language_info": {
   "codemirror_mode": {
    "name": "ipython",
    "version": 3
   },
   "file_extension": ".py",
   "mimetype": "text/x-python",
   "name": "python",
   "nbconvert_exporter": "python",
   "pygments_lexer": "ipython3",
   "version": "3.8.10"
  }
 },
 "nbformat": 4,
 "nbformat_minor": 4
}
