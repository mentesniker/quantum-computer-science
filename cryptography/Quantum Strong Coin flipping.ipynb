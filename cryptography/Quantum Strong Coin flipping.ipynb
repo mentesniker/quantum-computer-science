{
 "cells": [
  {
   "cell_type": "markdown",
   "metadata": {},
   "source": [
    "# Protocol for a strong coin flip"
   ]
  },
  {
   "source": [
    "## Problem: \n",
    "Alice and Bob are on the telephone and they decide to flip a coin just for fun. But Alice can't see Bobs coin and viceversa because they are over the telephone. For the sake of the problem let's assume that both of them have access to a quantum computer and none of them want to cheat. As many other quantum cryptography algorithms it is necessary to make this kind of assumptions in order to get a useful result and we will see by the end of the post why this is necessary. So the proccess they have to follow is:"
   ],
   "cell_type": "markdown",
   "metadata": {}
  },
  {
   "cell_type": "markdown",
   "metadata": {},
   "source": [
    "First let's define some imports."
   ]
  },
  {
   "cell_type": "code",
   "execution_count": 1,
   "metadata": {},
   "outputs": [],
   "source": [
    "%matplotlib inline\n",
    "# Importing standard Qiskit libraries\n",
    "from qiskit import QuantumCircuit, execute, Aer, IBMQ\n",
    "from qiskit.compiler import transpile, assemble\n",
    "from qiskit.tools.jupyter import *\n",
    "from random import randint\n",
    "import hashlib"
   ]
  },
  {
   "cell_type": "markdown",
   "metadata": {},
   "source": [
    "In the next cells Bob and Alice make an exchange of random bits using the bit commitment protocol. If you don't know the bit exchange protocol you can look it up [here](https://mentesniker.github.io/quantum-computer-science-tutorials/cryptography/BB84/)."
   ]
  },
  {
   "cell_type": "code",
   "execution_count": 77,
   "metadata": {},
   "outputs": [],
   "source": [
    "#Alice cell, Bob can't see what's going in on here\n",
    "m0 = randint(0,1)\n",
    "Alice_base = randint(0,1)\n",
    "qubits = list()\n",
    "mycircuit = QuantumCircuit(1,1)\n",
    "if(Alice_base == 0):\n",
    "    if(m0 == 1):\n",
    "        mycircuit.x(0)\n",
    "else:\n",
    "    if(m0 == 0):\n",
    "        mycircuit.h(0)\n",
    "    else:\n",
    "        mycircuit.x(0)\n",
    "        mycircuit.h(0)\n",
    "qubits.append(mycircuit)"
   ]
  },
  {
   "cell_type": "code",
   "execution_count": 78,
   "metadata": {},
   "outputs": [],
   "source": [
    "#Bob cell, Alice can't see what's going in on here\n",
    "backend = Aer.get_backend('qasm_simulator')\n",
    "a = 0\n",
    "qubit = qubits[0]\n",
    "if(Alice_base == 0):\n",
    "    qubit.measure(0,0)\n",
    "else:\n",
    "    qubit.h(0)\n",
    "    qubit.measure(0,0)\n",
    "result = execute(qubit, backend, shots=1, memory=True).result()\n",
    "a = int(result.get_memory()[0])"
   ]
  },
  {
   "cell_type": "code",
   "execution_count": 79,
   "metadata": {},
   "outputs": [],
   "source": [
    "#Bob cell, Alice can't see what's going in on here\n",
    "m1 = randint(0,1)\n",
    "Bob_base = randint(0,1)\n",
    "qubitsB = list()\n",
    "mycircuitB = QuantumCircuit(1,1)\n",
    "if(Bob_base == 0):\n",
    "    if(m1 == 1):\n",
    "        mycircuitB.x(0)\n",
    "else:\n",
    "    if(m1 == 0):\n",
    "        mycircuitB.h(0)\n",
    "    else:\n",
    "        mycircuitB.x(0)\n",
    "        mycircuitB.h(0)\n",
    "qubitsB.append(mycircuitB)"
   ]
  },
  {
   "cell_type": "code",
   "execution_count": 80,
   "metadata": {},
   "outputs": [],
   "source": [
    "#Alice cell, Bob can't see what's going in on here\n",
    "backend = Aer.get_backend('qasm_simulator')\n",
    "b = 0\n",
    "qubit = qubitsB[0]\n",
    "if(Bob_base == 0):\n",
    "    qubit.measure(0,0)\n",
    "else:\n",
    "    qubit.h(0)\n",
    "    qubit.measure(0,0)\n",
    "result = execute(qubit, backend, shots=1, memory=True).result()\n",
    "b = int(result.get_memory()[0])"
   ]
  },
  {
   "cell_type": "markdown",
   "metadata": {},
   "source": [
    "Finally in order to obtain their shared coin flip they calculate the XOR between their two bits. In order to obtain the same bit the must do this operation because XOR with same operands give the same number."
   ]
  },
  {
   "cell_type": "code",
   "execution_count": 81,
   "metadata": {},
   "outputs": [
    {
     "name": "stdout",
     "output_type": "stream",
     "text": [
      "The result of the coin flip was: 0\n"
     ]
    }
   ],
   "source": [
    "#Alice cell, Bob can't see what's going in on here\n",
    "print(\"The result of the coin flip was: \" + str(b ^ m0))"
   ]
  },
  {
   "cell_type": "code",
   "execution_count": 82,
   "metadata": {},
   "outputs": [
    {
     "name": "stdout",
     "output_type": "stream",
     "text": [
      "The result of the coin flip was: 0\n"
     ]
    }
   ],
   "source": [
    "#Bob cell, Alice can't see what's going in on here\n",
    "print(\"The result of the coin flip was: \" + str(m1 ^ a))"
   ]
  },
  {
   "source": [
    "As you can see this protocol is just an extension of the original BB84 protocol. You may say that is an application of the protocol. But what happens when one or the two of them wants to cheat in the protocol?"
   ],
   "cell_type": "markdown",
   "metadata": {}
  },
  {
   "source": [
    "## Why does it work?"
   ],
   "cell_type": "markdown",
   "metadata": {}
  },
  {
   "source": [
    "Suppose that one of them want to cheat, for example Bob wants to obtain a 0 all the times. One of the places where they could cheat is when they apply the XOR. But since Alice played by the rules, Alice bit will be random and the resul of the protocol will be random. So Bob can't force Alice Bit to be wherever He chooses because Alice will immediately notice the change. Another time where Bob could have choosen to cheat was the bit agreament protocol. In order to cheat He would choose to lie to Alice about their shared key (a, b, m0 and m1 bits). However Alice will notice because both of them have the same information so their must be the same.\n",
    "\n",
    "Everything is great except for the fact that both of them could choose to cheat. In that case the protocol fails because Alice would obtain a different bit compaired to Bob's bits and viceversa so none of them would obtain a truly random number.\n"
   ],
   "cell_type": "markdown",
   "metadata": {}
  },
  {
   "cell_type": "markdown",
   "metadata": {},
   "source": [
    "# References:\n",
    "Blum M.: Coin flipping by telephone a protocol for solving impossible problems. ACM SIGACT News\n",
    "15(1), 23–27 (1983). doi:10.1145/1008908.1008911.\n",
    "Broadbent, A., Schaffner, C. Quantum cryptography beyond quantum key distribution. Des. Codes Cryptogr. 78, 351–382 (2016). https://doi.org/10.1007/s10623-015-0157-4"
   ]
  }
 ],
 "metadata": {
  "kernelspec": {
   "display_name": "Python 3",
   "language": "python",
   "name": "python3"
  },
  "language_info": {
   "codemirror_mode": {
    "name": "ipython",
    "version": 3
   },
   "file_extension": ".py",
   "mimetype": "text/x-python",
   "name": "python",
   "nbconvert_exporter": "python",
   "pygments_lexer": "ipython3",
   "version": "3.8.5"
  }
 },
 "nbformat": 4,
 "nbformat_minor": 4
}