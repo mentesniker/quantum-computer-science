{
 "cells": [
  {
   "cell_type": "markdown",
   "metadata": {},
   "source": [
    "# Protocol for a strong coin flip"
   ]
  },
  {
   "cell_type": "markdown",
   "metadata": {},
   "source": [
    "## Problem: \n",
    "Let’s pretend for a moment that Alice and Bob are on the telephone and they have decided to flip a coin just for fun. Because they are over the telephone, Alice can’t see Bobs’s coin and vice versa. Additionally, let’s assume that both of them have access to a quantum computer and none of them want to cheat. (for the sake of the problem). This assumption is necessary in order to get a useful result. We’ll see why at the end of the post. For now let’s just concentrate on the process they have to follow:"
   ]
  },
  {
   "cell_type": "markdown",
   "metadata": {},
   "source": [
    "First let's define some imports."
   ]
  },
  {
   "cell_type": "code",
   "execution_count": 1,
   "metadata": {},
   "outputs": [],
   "source": [
    "%matplotlib inline\n",
    "# Importing standard Qiskit libraries\n",
    "from qiskit import QuantumCircuit, execute, Aer, IBMQ\n",
    "from qiskit.compiler import transpile, assemble\n",
    "from qiskit.tools.jupyter import *\n",
    "from random import randint\n",
    "import hashlib"
   ]
  },
  {
   "cell_type": "markdown",
   "metadata": {},
   "source": [
    "In the next cells Bob and Alice make an exchange of random bits using the bit commitment protocol. If you don’t know the bit exchange protocol you can look it up here.\n",
    "\n",
    "\n",
    "In the next cell, Alice chooses the bit She wants to send to Bob then She encrypts Her decision and sends it to Bob. The encryption works as follows: She chooses a random number between 0 and 1 if the number is 1 She encrypts the chosen bit, and She leaves the bit without encryption otherwise. We’ll call the random number Alice Basis. Notice that it would be impossible for Bob to know if the bit was encrypted or not."
   ]
  },
  {
   "cell_type": "code",
   "execution_count": 2,
   "metadata": {},
   "outputs": [],
   "source": [
    "#Alice cell, Bob can't see what's going in on here\n",
    "Alice_base = randint(0,1)\n",
    "qubits = list()\n",
    "mycircuit = QuantumCircuit(1,1)\n",
    "if(Alice_base == 0):\n",
    "    mycircuit.x(0)\n",
    "else:\n",
    "    mycircuit.x(0)\n",
    "    mycircuit.h(0)\n",
    "qubits.append(mycircuit)"
   ]
  },
  {
   "cell_type": "markdown",
   "metadata": {},
   "source": [
    "Then, Bob receives the qubit from Alice and after a while She sends Her basis to him. Then Bob proceeds to decipher the original message. This consists in applying an H gate if Alice’s basis says 1. After applying these gates Bob will do a measurement and He’ll be able to recover the original bit."
   ]
  },
  {
   "cell_type": "code",
   "execution_count": 3,
   "metadata": {},
   "outputs": [],
   "source": [
    "#Bob cell, Alice can't see what's going in on here\n",
    "backend = Aer.get_backend('qasm_simulator')\n",
    "a = 0\n",
    "qubit = qubits[0]\n",
    "if(Alice_base == 0):\n",
    "    qubit.measure(0,0)\n",
    "else:\n",
    "    qubit.h(0)\n",
    "    qubit.measure(0,0)\n",
    "result = execute(qubit, backend, shots=1, memory=True).result()\n",
    "a = int(result.get_memory()[0])"
   ]
  },
  {
   "cell_type": "markdown",
   "metadata": {},
   "source": [
    "Now Bob have to do the same process as Alice. He needs to send Alice an encrypted bit to Alice."
   ]
  },
  {
   "cell_type": "code",
   "execution_count": 4,
   "metadata": {},
   "outputs": [],
   "source": [
    "#Bob cell, Alice can't see what's going in on here\n",
    "Bob_base = randint(0,1)\n",
    "qubitsB = list()\n",
    "mycircuitB = QuantumCircuit(1,1)\n",
    "if(Bob_base == 0):\n",
    "    mycircuitB.x(0)\n",
    "else:\n",
    "    mycircuitB.x(0)\n",
    "    mycircuitB.h(0)\n",
    "qubitsB.append(mycircuitB)"
   ]
  },
  {
   "cell_type": "markdown",
   "metadata": {},
   "source": [
    "Then Alice decrypts Bob’s chosen bit."
   ]
  },
  {
   "cell_type": "code",
   "execution_count": 5,
   "metadata": {},
   "outputs": [],
   "source": [
    "#Alice cell, Bob can't see what's going in on here\n",
    "backend = Aer.get_backend('qasm_simulator')\n",
    "b = 0\n",
    "qubit = qubitsB[0]\n",
    "if(Bob_base == 0):\n",
    "    qubit.measure(0,0)\n",
    "else:\n",
    "    qubit.h(0)\n",
    "    qubit.measure(0,0)\n",
    "result = execute(qubit, backend, shots=1, memory=True).result()\n",
    "b = int(result.get_memory()[0])"
   ]
  },
  {
   "cell_type": "markdown",
   "metadata": {},
   "source": [
    "Finally in order to obtain their shared coin flip they calculate the XOR between their two bits. They do an XOR because the result of the operations will be the same. And by the end of the protocol they’ll have a random shared bit. Or the equivalent, a coin flip."
   ]
  },
  {
   "cell_type": "code",
   "execution_count": 6,
   "metadata": {},
   "outputs": [
    {
     "name": "stdout",
     "output_type": "stream",
     "text": [
      "The result of the coin flip was: 0\n"
     ]
    }
   ],
   "source": [
    "#Alice cell, Bob can't see what's going in on here\n",
    "print(\"The result of the coin flip was: \" + str(b ^ a))"
   ]
  },
  {
   "cell_type": "code",
   "execution_count": 7,
   "metadata": {},
   "outputs": [
    {
     "name": "stdout",
     "output_type": "stream",
     "text": [
      "The result of the coin flip was: 0\n"
     ]
    }
   ],
   "source": [
    "#Bob cell, Alice can't see what's going in on here\n",
    "print(\"The result of the coin flip was: \" + str(b ^ a))"
   ]
  },
  {
   "cell_type": "markdown",
   "metadata": {},
   "source": [
    "As you can see this protocol is just an extension of the bit commitment protocol. You may even say that is an application of that protocol. But what happens when one or the two of them wants to cheat in the protocol? We’ll see that in a moment."
   ]
  },
  {
   "cell_type": "markdown",
   "metadata": {},
   "source": [
    "## Why it doesn’t work when one of them cheats?\n",
    "\n",
    "Suppose that one of them want to cheat, for example Bob wants to obtain a 0 all the times. One of the places where He could cheat is when He apply the XOR. But since Alice played by the rules, Alice bit will be random and the result of the protocol will be random. So, Alice result will be different of Bob’s bit and then She’ll immediately know that Bob has cheated on the protocol. In other words, Bob can’t force Alice Bit to be wherever He chooses because Alice will immediately notice the change. Another time where Bob could have chosen to cheat was in the bit agreement protocol. In order to cheat He would choose to lie to Alice about their shared key (a, b bits). However, Alice will notice because both of them have the same information.\n",
    "\n",
    "And what about the case when both of them choose to cheat? In that case, the protocol fails because Alice would obtain a different bit compared to Bob’s bits and vice versa so none of them would obtain a truly random number. But thanks to our initial supposition this case will never happen."
   ]
  },
  {
   "cell_type": "markdown",
   "metadata": {},
   "source": [
    "# References:\n",
    "Blum M.: Coin flipping by telephone a protocol for solving impossible problems. ACM SIGACT News\n",
    "15(1), 23–27 (1983). doi:10.1145/1008908.1008911.\n",
    "Broadbent, A., Schaffner, C. Quantum cryptography beyond quantum key distribution. Des. Codes Cryptogr. 78, 351–382 (2016). https://doi.org/10.1007/s10623-015-0157-4"
   ]
  }
 ],
 "metadata": {
  "kernelspec": {
   "display_name": "Python 3",
   "language": "python",
   "name": "python3"
  },
  "language_info": {
   "codemirror_mode": {
    "name": "ipython",
    "version": 3
   },
   "file_extension": ".py",
   "mimetype": "text/x-python",
   "name": "python",
   "nbconvert_exporter": "python",
   "pygments_lexer": "ipython3",
   "version": "3.8.10"
  }
 },
 "nbformat": 4,
 "nbformat_minor": 4
}
