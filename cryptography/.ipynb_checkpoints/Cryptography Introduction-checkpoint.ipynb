{
 "cells": [
  {
   "cell_type": "markdown",
   "metadata": {},
   "source": [
    "## Quantum cryptography\n",
    "\n",
    "Since the origins of the first human civilizations, the need to hide things was always present. There are many examples in which was necessary to hide information. To mention one, in the times of the roman emperor Caesar, He used an encryption method to cipher his personal mail. This method has the name of this emperor: The caesar cipher. But when you have something to hide, it is because someone is looking for it. If not, what was the point of hidding the information in the first place. So, cryptography history was always played by two sides: the people that wanted to decipher (illegaly) the information and the people that wanted to keep their secrets. Everything was going well with modern ciphers until a reasercher named Shor proved that factorization could be done in polinomial time. This was a really bad thing because a lot of our cryptographic sistems depends on the fact that we can't factorice numbers quickly. When we reached this point, researchers asked themselves the question: Is it safe to use modern ciphers when quantum computers will be a reality?. Sadly the answer is no but not everything is so bad about it, let's see why.\n",
    "\n",
    "## Quantum computers and classical cryptography.\n",
    "\n",
    "Quantum computers have a lot of problems today. And the problems will be with them a long time. One of the main reasons is noise. It occurs that when you are operating qubits for large circuits the enviroment could affect your calculations, that is why it is searched to have short circuits in order to have the less amount of noise in the qubits. To address this issue researchers use a lot of quantum bits to simulate a \"perfect quantum bit\". But this is computational costly. This is one of the main reasons of why the Shors algorithm doesn't pose a treat to modern cryptography in a near term future. And when the time comes for a functional quantum computer, the cryptography algorithms will have found another way of encrypting their data.\n",
    "\n",
    "## Research lines of quantum cryptography.\n",
    "\n",
    "Great, we won't have an apocalipse due to the quantum computers but what are the researchers doing nowdays in terms of quantum cryptography?. To answer this question we must begin with one of the classical protocols of quantum computing. In the year 1984 a lot of researchers were gather in a workshop to try to come up with algorithms and protocols for the quantum computers. In the cincinaty workshop the reserachers came up with one fantastical idea: use the capabilities of quantum computing to encrypt data. In this way the protocol BB84 was born. \n",
    "\n",
    "### BB84\n",
    "\n",
    "This protocol uses a lot of great features of quantum computing such as superposition and the no [clone theorem](https://en.wikipedia.org/wiki/No-cloning_theorem). The first, states that a quantum bit can be in an equal superposition of states and when you make a measurement you get one of two results (0 or 1) with equal probability. The later states that you can't create a perfect copy of a quantum superposition bit. With these rules in mind researchers came up with the idea of using the superposition to agree on a common secret key.  Then they use a classical channel for the rest of the protocol, however it's important to note that arrived this second part, the risk of getting their credential stolen is very low. This type of protocol could be a huge asset for the creation of a quantum internet in a future. A lot of researchers were interested in this type of protocols, so they started to make research in this area.\n",
    "\n",
    "### Cryptographic primitives\n",
    "\n",
    "After the discovery of the key exchange algorithms a lot of researchers were really excited about the new capabilities of the quantum computers. So they started doing research from the most basic primitives in cryptography: Bit commitment and Oblivous transfer. Both of them are very similar, one of them search to protect a message once it was send until the sender decides to reveal it. The other one, search to send one of two messages depending on the choice of the receiver but with the catch that any of the two must not know the decision and the two messages. Sadly, it was found by a researcher that this type of primitives was impossible to secure using quantum computers without making additional assumptions [2]. This created one of the firsts lines of research, create a bit commmitment and oblivious message protocol that works well under reasonable assumptions.\n",
    "\n",
    "### Coin flip\n",
    "\n",
    "The coin flip problem is a classical problem in cryptography and has a counter part in quantum computer. Simply put, we have to flip a coin over the telephone [2]. We have two types of coin flip: One is the strong where the flip is going to be random because at least one of them doesn't cheat in the process [2]. The counter part is the weak where non of them can bias their coin more than a certain $\\epsilon$ [2]. But as with cryptographyc primitives this problems were shown to be insecure using quantum computers [2]. So a line of research is searching for the best weak coin flip that could be available.\n",
    "\n",
    "### Cheat detection\n",
    "\n",
    "Another line of research of quantum cryptography is aimed to detect cheaters on a quantum cryptography protocol. The bad thing of detecting cheaters in the protocols is that the quantum states are destroyed in the process. The good thing is that it could solve some problems of the protocols presented in this short introduction.\n",
    "\n",
    "As you can see, quantum cryptography is not perfect and it's not going to replace classical cryptography. However, it may be useful to use it in some process like in the key distribution protocols. You'll find an example of these algorithms in the posts contained inside this page. Feel free to look around.\n",
    "\n",
    "## References:\n",
    "\n",
    "[1] Blum M.: Coin flipping by telephone a protocol for solving impossible problems. ACM SIGACT News\n",
    "15(1), 23–27 (1983). doi:10.1145/1008908.1008911.\n",
    "[2] Broadbent, A., Schaffner, C. Quantum cryptography beyond quantum key distribution. Des. Codes Cryptogr. 78, 351–382 (2016). https://doi.org/10.1007/s10623-015-0157-4"
   ]
  }
 ],
 "metadata": {
  "kernelspec": {
   "display_name": "Python 3",
   "language": "python",
   "name": "python3"
  },
  "language_info": {
   "codemirror_mode": {
    "name": "ipython",
    "version": 3
   },
   "file_extension": ".py",
   "mimetype": "text/x-python",
   "name": "python",
   "nbconvert_exporter": "python",
   "pygments_lexer": "ipython3",
   "version": "3.8.5"
  }
 },
 "nbformat": 4,
 "nbformat_minor": 4
}
