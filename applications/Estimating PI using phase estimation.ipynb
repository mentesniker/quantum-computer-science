{
 "cells": [
  {
   "cell_type": "markdown",
   "metadata": {},
   "source": [
    "## Estimation of pi\n",
    "\n",
    "It is know by almost all quantum computing students the phase estimation algorithm. Here we'll present an application of this algorithm by estimating the value of pi"
   ]
  },
  {
   "cell_type": "markdown",
   "metadata": {},
   "source": [
    "First we have to import a few necessary packages."
   ]
  },
  {
   "cell_type": "code",
   "execution_count": 10,
   "metadata": {},
   "outputs": [],
   "source": [
    "%matplotlib inline\n",
    "# Importing standard Qiskit libraries\n",
    "from qiskit import QuantumCircuit, execute, Aer, IBMQ\n",
    "from qiskit.circuit.library import QFT\n",
    "from qiskit.compiler import transpile, assemble\n",
    "from qiskit.tools.jupyter import *\n",
    "from qiskit.visualization import *\n",
    "import math\n",
    "import numpy as np\n",
    "from iqx import *\n",
    "import operator"
   ]
  },
  {
   "cell_type": "markdown",
   "metadata": {},
   "source": [
    "Here we define an implementation of the QPE estimation. If you want to learn more about this algorithm check out this post."
   ]
  },
  {
   "cell_type": "code",
   "execution_count": 11,
   "metadata": {},
   "outputs": [],
   "source": [
    "class QPE():\n",
    "    def __init__(self, n):\n",
    "        self.n = n\n",
    "        self.qc = QuantumCircuit(n+1, n)\n",
    "        for qubit in range(n):\n",
    "            self.qc.h(qubit)\n",
    "        self.qc.x(n)\n",
    "    \n",
    "    def calculate_phase(self):\n",
    "        for x in range(self.n):\n",
    "            exponent = 2**(self.n-x-1)\n",
    "            self.unitary_operator_exponent(self.qc, x, self.n, exponent)\n",
    "        self.qc.append(QFT( self.n, do_swaps=True).inverse(), range(self.n))\n",
    "        self.qc.measure(range(self.n), range(self.n))\n",
    "        simulator = Aer.get_backend('qasm_simulator')\n",
    "        counts = execute(self.qc, backend=simulator, shots=10000).result().get_counts(self.qc)\n",
    "        plot_histogram(counts)\n",
    "        highest_probability_outcome = max(counts.items(), key=operator.itemgetter(1))[0][::-1]\n",
    "        measured_theta = int(highest_probability_outcome, 2)/2**self.n\n",
    "        return measured_theta\n",
    "    \n",
    "    def unitary_operator_exponent(self, given_circuit, control_qubit, target_qubit,exponent):\n",
    "        for e in range(exponent):   \n",
    "            self.unitary_operator(given_circuit, control_qubit, target_qubit)\n",
    "            \n",
    "    def unitary_operator(self,given_circuit, control_qubit, target_qubit):\n",
    "        given_circuit.cp(1, target_qubit, control_qubit)    \n",
    "    \n"
   ]
  },
  {
   "cell_type": "markdown",
   "metadata": {},
   "source": [
    "Then we apply the function to estimate the phase. When we obtain the phase we must apply an identity to obtain the value of pi."
   ]
  },
  {
   "cell_type": "code",
   "execution_count": 12,
   "metadata": {},
   "outputs": [
    {
     "name": "stdout",
     "output_type": "stream",
     "text": [
      "pi value is:  3.1411042944785277\n"
     ]
    }
   ],
   "source": [
    "qpe = QPE(12)\n",
    "measured_theta = qpe.calculate_phase()\n",
    "pi = 1/(2*(measured_theta))\n",
    "print(\"pi value is: \", pi)"
   ]
  },
  {
   "cell_type": "markdown",
   "metadata": {},
   "source": [
    "As many other quantum algorithms is not a perfect method to estimate pi because simulating a quantum computer is computational costly (exponential in the number of qubits). And if you run this algorithm on an actual quantum computer the noise will affect the calculations so won't have a good result. So for now this application is just a scientific curiosity of the algorithm."
   ]
  }
 ],
 "metadata": {
  "kernelspec": {
   "display_name": "Python 3",
   "language": "python",
   "name": "python3"
  },
  "language_info": {
   "codemirror_mode": {
    "name": "ipython",
    "version": 3
   },
   "file_extension": ".py",
   "mimetype": "text/x-python",
   "name": "python",
   "nbconvert_exporter": "python",
   "pygments_lexer": "ipython3",
   "version": "3.8.5"
  }
 },
 "nbformat": 4,
 "nbformat_minor": 4
}
