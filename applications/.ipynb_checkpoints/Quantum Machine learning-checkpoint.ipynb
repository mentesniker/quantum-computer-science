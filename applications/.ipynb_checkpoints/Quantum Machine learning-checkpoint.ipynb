{
 "cells": [
  {
   "cell_type": "markdown",
   "metadata": {},
   "source": [
    "## Quantum support vectorial machine\n",
    "Just like support vectorial machines, QVSM can classify a dataset based on a few observations.\n",
    "The proccess is almost the same as using a SVM.\n",
    "You plot the data, do adimentional reduction using a method like PCA, divide the dataset in training and validation. Finally the model is trained with the training dataset.\n",
    "\n",
    "Qiskit have almost all the classic dataset (toy datasets) for you to experiment on this kind of device. You can check out the avalibable datasets in this github [link](https://github.com/Qiskit/qiskit-aqua/tree/master/qiskit/ml/datasets)\n",
    "\n",
    "In brief, QSVM takes the data and transform it into something that a quantum computer can understand."
   ]
  },
  {
   "cell_type": "markdown",
   "metadata": {},
   "source": [
    "The first steps are defining a random seed, and specify the dimension of the dataset.\n",
    "Then you have to import the dataset from the qiskit library, even thought this is a highly knew dataset it must done this way. You can see the dataset plot if you pass the argument plot_data=True"
   ]
  },
  {
   "cell_type": "code",
   "execution_count": 9,
   "metadata": {},
   "outputs": [
    {
     "data": {
      "image/png": "[encoded data removed]",
      "text/plain": [
       "<Figure size 432x288 with 1 Axes>"
      ]
     },
     "metadata": {
      "needs_background": "light"
     },
     "output_type": "display_data"
    }
   ],
   "source": [
    "from qiskit.ml.datasets import breast_cancer\n",
    "import matplotlib.pyplot as plt\n",
    "import numpy as np\n",
    "\n",
    "from qiskit import BasicAer\n",
    "from qiskit.circuit.library import ZZFeatureMap\n",
    "from qiskit.aqua import QuantumInstance, aqua_globals\n",
    "from qiskit.aqua.algorithms import QSVM\n",
    "from qiskit.aqua.utils import split_dataset_to_data_and_labels, map_label_to_class_name\n",
    "\n",
    "seed = 10599\n",
    "aqua_globals.random_seed = seed\n",
    "feature_dim = 2\n",
    "sample_total, training_input, test_input, class_labels = breast_cancer(\n",
    "    training_size=40,\n",
    "    test_size=10,\n",
    "    n=feature_dim,\n",
    "    plot_data=True\n",
    ")"
   ]
  },
  {
   "cell_type": "markdown",
   "metadata": {},
   "source": [
    "Then you create a model and a backend (for the quantum computations).\n",
    "Finally you run the model to see the success ratio."
   ]
  },
  {
   "cell_type": "code",
   "execution_count": 10,
   "metadata": {},
   "outputs": [
    {
     "name": "stdout",
     "output_type": "stream",
     "text": [
      "Testing success ratio: 0.85\n"
     ]
    }
   ],
   "source": [
    "feature_map = ZZFeatureMap(feature_dimension=feature_dim, reps=2, entanglement='linear')\n",
    "qsvm = QSVM(feature_map, training_input, test_input)\n",
    "\n",
    "backend = BasicAer.get_backend('qasm_simulator')\n",
    "quantum_instance = QuantumInstance(backend, shots=1024, seed_simulator=seed, seed_transpiler=seed)\n",
    "\n",
    "result = qsvm.run(quantum_instance)\n",
    "\n",
    "print(f'Testing success ratio: {result[\"testing_accuracy\"]}')"
   ]
  },
  {
   "cell_type": "markdown",
   "metadata": {},
   "source": [
    "As you can see the algorithm works, but it has serious drawbacks at the moment. It is more slow to simulate this than running your classical classification algorithms. Also, the training dataset must be very small because classical computers don't have enough power to simulate large quantum computers. And the last draw back is that quantum computers (the real ones not simulators) have a lot of noise which will cause to loss accuracy in the models.\n",
    "\n",
    "It seems like a very interesting concept to run machine learning algorithms with the help of a quantum computer but We'll have to wait a little bit longer to have reliable quantum computers to do this kind of applications."
   ]
  },
  {
   "cell_type": "markdown",
   "metadata": {},
   "source": [
    "## References:\n",
    "\n",
    "https://www.youtube.com/watch?v=OKbcJCUx6xA&ab_channel=Qiskit"
   ]
  }
 ],
 "metadata": {
  "kernelspec": {
   "display_name": "Python 3",
   "language": "python",
   "name": "python3"
  },
  "language_info": {
   "codemirror_mode": {
    "name": "ipython",
    "version": 3
   },
   "file_extension": ".py",
   "mimetype": "text/x-python",
   "name": "python",
   "nbconvert_exporter": "python",
   "pygments_lexer": "ipython3",
   "version": "3.8.5"
  }
 },
 "nbformat": 4,
 "nbformat_minor": 4
}
