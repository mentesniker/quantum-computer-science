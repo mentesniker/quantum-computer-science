{
 "cells": [
  {
   "cell_type": "markdown",
   "metadata": {},
   "source": [
    "# ICPC Quantum challenge problem one.\n",
    "\n",
    "The ICPC are very important programming contests. In the past I have participated in several ICPC contests and the experience was incredible. This one in particular was a little bit different, with some problems with the servers and the gradders but the problem set was very good and very fun to do. \n",
    "In these series of posts I'll present these problems and my solutions to these."
   ]
  },
  {
   "cell_type": "markdown",
   "metadata": {},
   "source": [
    "## Problem one: Introduction \n",
    "\n",
    "Quantum computations are expressed by quantum circuits, which consist of a list of gates, $G_1G_2...G_k$, each being a unitary matrix (a matrix $U$ is called unitary if $U^{-1}\\,{=}\\,U^\\dagger$).  The basic gates include the identity transformation($Id$) that performs no computation, and Pauli matrices : <br>\n",
    "<h3>\n",
    "$$Id = \\begin{bmatrix} 1 & 0 \\\\ 0 & 1 \\end{bmatrix}\\hspace{1cm}X = \\begin{bmatrix} 0 & 1 \\\\ 1 & 0 \\end{bmatrix}\\hspace{1cm}Y = \\begin{bmatrix} 0 & -i \\\\ i & 0 \\end{bmatrix}\\hspace{1cm}Z = \\begin{bmatrix} 1 & 0 \\\\ 0 & -1 \\end{bmatrix}$$\n",
    "</h3>\n",
    "<br>\n",
    "All single-qubit quantum computations $U_1$ can be obtained by multiplyingthe roots of Pauli matrices (also known as Euler’s angle decomposition. However, to implement quantum transformations spanning multiple qubits, we need gates spanning more than one qubit, otherwise known as entangling gates.  It turns out that it suffices to add a very simple gate, called the $\\text{CNOT}$ and defined as follows,\n",
    "<h3>\n",
    "$$ \\text{CNOT} = \\begin{pmatrix} 1 & 0 & 0 & 0 \\\\ 0 & 1 & 0 & 0 \\\\ 0 & 0 & 0 & 1 \\\\ 0 & 0 & 1 & 0 \\end{pmatrix},$$\n",
    "</h3>\n",
    "to obtain computational universality in the sense of the ability to express arbitrary transformations as circuits with $U$ and $\\text{CNOT}$ gates.  Both leading quantum computing technologies, superconducting circuits and trapped ions, allow a straightforward physical-level implementation of the above gates in practice. In both technologies, the cost of implementing the $\\text{CNOT}$ gate exceeds that of arbitrary single-qubit $U_1$ gates.  Thus, an efficient quantum computation minimizes the use of the $\\text{CNOT}$ gates\n",
    "\n",
    "For instance, the Toffoli gate, performing the transformation $|a,b,c\\rangle\\mapsto|a,b,c\\oplus ab\\rangle$, is a quantum version of the Boolean AND gate; it can be implemented as shown in Figure 1.\n",
    "Figure 1: Implementation of the Toffoli gate using two Hadamard gates $\\text{H}$, six $\\text{CNOT}$ gates, and seven $\\text{T/}\\hspace{0.1cm}\\text{T}^\\dagger$gates (credit: Wikipedia).  Individual qubits are denoted by horizontal wires, time flows from left to right."
   ]
  },
  {
   "cell_type": "markdown",
   "metadata": {},
   "source": [
    "A quantum circuit is said to implement an $n$-input $m$-output Boolean function $f(x)$ if it computes the transformation $|x,0,0\\rangle \\mapsto e^{i\\theta(x)}|x,f(x),0\\rangle$ for some arbitrary real-valued function $\\theta(x)$, i.e., first part of the register passes unchanged, the second part accumulates the bit values of the desired function $f(x)$, and the third part, with $S$ qubits, is used as a computational scratch space. When $\\theta(x) \\equiv 2\\pi$, implying $e^{i\\theta(x)} \\equiv 1$, the implementation is called phaseless.  We consider the phase $\\theta(x)$ irrelevant in what follows, which is consistent with measuring the $m$ output bits immediately after implementing the circuit. Allowing the phase to take different values depending on the input introduces a degree of freedom that can be explored to obtain shorter circuits, as there are fewer conditions for the circuit to satisfy.  The total number of qubits spanned by such a circuit is $n\\,{+}\\,m\\,{+}\\,S$.  Note that the $S$-qubit scratch space needs to be returned to value $|0\\rangle$ as otherwise, the implementation may not be used in quantum algorithms due to unwanted entanglement residing on the unreset scratch qubits.\n"
   ]
  },
  {
   "cell_type": "markdown",
   "metadata": {},
   "source": [
    "## 1. Compute popcount function for n = 4 qubits\n",
    "Popcount, also known as the Hamming weight or simply weight, is a popular instruction in classical computing that is utilized in certain implementations of quantum algorithms. In particular, this includes Hamiltonian dynamics simulation algorithms, which are considered to be among the most important as they offer exponential advantage over best-known classical algorithms for solutions to practical problems (in areas such as many-body physics, materials research, and chemistry). For the Boolean $n$-tuple $(x_1,x_2,...,x_n)$, popcount is defined as the integer sum of inputs, \n",
    "<h3>\n",
    "$$\\text{Popcount}(x_1,x_2,...,x_n)=(y_1,y_2,...,y_m)=x_1+x_2+...+x_n, $$\n",
    "</h3>\n",
    "where $m=\\lfloor\\log(n)\\rfloor+1.$"
   ]
  },
  {
   "cell_type": "markdown",
   "metadata": {},
   "source": [
    "The task here is two provide three QASM circuits computing the mappings $|x,0,0\\rangle \\mapsto e^{i\\theta_j(x)}|x,y_j(x),0\\rangle$ expressed using single-qubit and $\\text{CNOT}$ gates, where $(y_1,y_2,y_3) \\,{=}\\, \\text{Popcount}(x)$ is the 4-input 3-output Popcount function and $j \\in \\{1,2,3\\}$. Each of the three will be scored separately."
   ]
  },
  {
   "cell_type": "markdown",
   "metadata": {},
   "source": [
    "The thing to do in this excercise (without all the fancy mathematical terms) was to implement a half adder and later a full adder of 3 bits. The difference was that instead adding two numbers we had to count the number of one's in a bit string."
   ]
  },
  {
   "cell_type": "markdown",
   "metadata": {},
   "source": [
    "### a) Circuit for j = 1\n",
    "<h3>\n",
    "$$|x,0,0\\rangle \\mapsto e^{i\\theta_{1}(x)}|x,y_{1}(x),0\\rangle$$"
   ]
  },
  {
   "cell_type": "markdown",
   "metadata": {},
   "source": [
    "## Solution\n",
    "Even if the notation it's a little bit scary, all we had to do was to check the parity of the bitstring. In other words sum all the bits and check for the first bit of the sum (which is the parity). So, in order to calculate the parity we just had to compute some cx gates to some ancilla qubit, then return the ancilla to 0 (it was a part of the requirements) and propagate the result to the output qubit. We had to do this because the cx gate have the same effect as doing a sum over a single bit (if it's 1 then it flip it back to 0 just like a sum of a 1 with a 0 or a 1). This first excercise was really simple."
   ]
  },
  {
   "cell_type": "code",
   "execution_count": 5,
   "metadata": {},
   "outputs": [],
   "source": [
    "# Importing the qiskit module\n",
    "from qiskit import *\n",
    "\n",
    "# Defining input, output and scratch qubits\n",
    "x =     4 # number of input qubits\n",
    "y1 =    1 # number of output qubit \n",
    "s1 =    1 # number of scratch qubit\n",
    "\n",
    "# Defining Quantum Circuit with the given circuits\n",
    "def Circuit_1(In,Ou,Sc):\n",
    "    if Sc != 0:\n",
    "        # initiating required qubits\n",
    "        X = QuantumRegister(In, 'input') \n",
    "        Y = QuantumRegister(Ou, 'output') \n",
    "        S = QuantumRegister(Sc, 'scratch')  \n",
    "        \n",
    "        # creating circuit with above qubits\n",
    "        Circ = QuantumCircuit(X,Y,S)\n",
    "    else:\n",
    "        \n",
    "        # initiating required qubits\n",
    "        X = QuantumRegister(In, 'input') \n",
    "        Y= QuantumRegister(Ou, 'output') \n",
    "        \n",
    "        # creating circuit with above qubits\n",
    "        Circ = QuantumCircuit(X,Y)\n",
    "    \n",
    "    ##### Create you circuit below #########\n",
    "    Circ.cx([0,1,2,3],5)\n",
    "    Circ.cx(5,4)\n",
    "    Circ.cx(4,5)\n",
    "        \n",
    "\n",
    "    \n",
    "    ########################################\n",
    "    \n",
    "    # Uncomment to draw quantum circuit\n",
    "   # display(Circ.draw('mpl'))\n",
    "    \n",
    "    # Transpiling the circuit into u, cnot\n",
    "    Circ = transpile(Circ, basis_gates=['u3','cx'])\n",
    "    \n",
    "    # Uncomment to draw transpiled circuit\n",
    "    # display(Circ.draw('mpl'))\n",
    "    \n",
    "    return Circ\n",
    "\n",
    "qc_1a = Circuit_1(x,y1,s1)"
   ]
  },
  {
   "cell_type": "markdown",
   "metadata": {},
   "source": [
    "### Grader"
   ]
  },
  {
   "cell_type": "code",
   "execution_count": 6,
   "metadata": {},
   "outputs": [
    {
     "name": "stdout",
     "output_type": "stream",
     "text": [
      "Grading your answer for ex1/partA. Please wait...\n",
      "\n",
      "Congratulations 🎉! Your answer is correct.\n",
      "Your cost is 14.\n",
      "Feel free to submit your answer.\n",
      "\n"
     ]
    }
   ],
   "source": [
    "from qc_grader import grade_ex1a\n",
    "\n",
    "grade_ex1a(qc_1a)"
   ]
  },
  {
   "cell_type": "markdown",
   "metadata": {},
   "source": [
    "### b) Circuit for j = 2\n",
    "<h3>\n",
    " $$|x,0,0\\rangle \\mapsto e^{i\\theta_{2}(x)}|x,y_{2}(x),0\\rangle$$"
   ]
  },
  {
   "cell_type": "markdown",
   "metadata": {},
   "source": [
    "## Solution\n",
    "Now for the second part, we had to calculate the sum for the second bit. Before digging any further please note this important fact: if we sum 4 bits which three of them are 1 then we'll have as a result 0011, and if we sum 4 bits which two of them are 1's then we'll have as a result 0010. And those are the only two possibilities for obtaining a 1 in the second bit of the output. So we have to check if two qubits are 1 or three are one. My approach to solve this was to use a toffoli gate to check all of the combinations of two bits. If an odd number of toffoli's gates were one then the result would have been one. This result gives us what we wanted earlier, to return a 1 only if two or three qubits were one."
   ]
  },
  {
   "cell_type": "code",
   "execution_count": 1,
   "metadata": {},
   "outputs": [],
   "source": [
    "# Importing the qiskit module\n",
    "from qiskit import *\n",
    "import qiskit.circuit.library\n",
    "\n",
    "# Defining input, output and scratch qubits\n",
    "x =     4 # number of input qubits\n",
    "y2 =    1 # number of output qubit \n",
    "s2 =    0 # number of scratch qubit\n",
    "\n",
    "# Defining Quantum Circuit with the given circuits\n",
    "def Circuit_2(In,Ou,Sc):\n",
    "    if Sc != 0:\n",
    "        # initiating required qubits\n",
    "        X = QuantumRegister(In, 'input') \n",
    "        Y = QuantumRegister(Ou, 'output') \n",
    "        S = QuantumRegister(Sc, 'scratch')  \n",
    "        \n",
    "        # creating circuit with above qubits\n",
    "        Circ = QuantumCircuit(X,Y,S)\n",
    "    else:\n",
    "        \n",
    "        # initiating required qubits\n",
    "        X = QuantumRegister(In, 'input') \n",
    "        Y= QuantumRegister(Ou, 'output') \n",
    "        \n",
    "        # creating circuit with above qubits\n",
    "        Circ = QuantumCircuit(X,Y)\n",
    "    \n",
    "    ##### Create you circuit below #########\n",
    "    \n",
    "    #toffoli between 0 and 1, result y2\n",
    "    Circ.h(4)\n",
    "    Circ.t(4)\n",
    "    Circ.cx(1,4)\n",
    "    Circ.tdg(4)\n",
    "    Circ.cx(0,4)\n",
    "    Circ.t(4)\n",
    "    Circ.cx(1,4)\n",
    "    Circ.tdg(4)\n",
    "    Circ.h(4)\n",
    "    \n",
    "    #toffoli between 0 and 2, result y2\n",
    "    Circ.h(4)\n",
    "    Circ.t(4)\n",
    "    Circ.cx(2,4)\n",
    "    Circ.tdg(4)\n",
    "    Circ.cx(0,4)\n",
    "    Circ.t(4)\n",
    "    Circ.cx(2,4)\n",
    "    Circ.tdg(4)\n",
    "    Circ.h(4)\n",
    "    \n",
    "    #toffoli between 0 and 3, result y2\n",
    "    Circ.h(4)\n",
    "    Circ.t(4)\n",
    "    Circ.cx(3,4)\n",
    "    Circ.tdg(4)\n",
    "    Circ.cx(0,4)\n",
    "    Circ.t(4)\n",
    "    Circ.cx(3,4)\n",
    "    Circ.tdg(4)\n",
    "    Circ.h(4)\n",
    "    \n",
    "    #toffoli between 1 and 2, result y2\n",
    "    Circ.h(4)\n",
    "    Circ.t(4)\n",
    "    Circ.cx(2,4)\n",
    "    Circ.tdg(4)\n",
    "    Circ.cx(1,4)\n",
    "    Circ.t(4)\n",
    "    Circ.cx(2,4)\n",
    "    Circ.tdg(4)\n",
    "    Circ.h(4)\n",
    "    \n",
    "    #toffoli between 1 and 3, result y2\n",
    "    Circ.h(4)\n",
    "    Circ.t(4)\n",
    "    Circ.cx(3,4)\n",
    "    Circ.tdg(4)\n",
    "    Circ.cx(1,4)\n",
    "    Circ.t(4)\n",
    "    Circ.cx(3,4)\n",
    "    Circ.tdg(4)\n",
    "    Circ.h(4)\n",
    "    \n",
    "    #toffoli between 2 and 3, result y2\n",
    "    Circ.h(4)\n",
    "    Circ.t(4)\n",
    "    Circ.cx(3,4)\n",
    "    Circ.tdg(4)\n",
    "    Circ.cx(2,4)\n",
    "    Circ.t(4)\n",
    "    Circ.cx(3,4)\n",
    "    Circ.tdg(4)\n",
    "    Circ.h(4)\n",
    "    \n",
    "    ########################################\n",
    "    \n",
    "    # Uncomment to draw quantum circuit\n",
    "#    display(Circ.draw('mpl'))\n",
    "    \n",
    "    # Transpiling the circuit into u, cnot\n",
    "    Circ = transpile(Circ, basis_gates=['u3','cx'])\n",
    "    \n",
    "    # Uncomment to draw transpiled circuit\n",
    "#     display(Circ.draw('mpl'))\n",
    "    \n",
    "    return Circ\n",
    "\n",
    "qc_1b = Circuit_2(x,y2,s2)"
   ]
  },
  {
   "cell_type": "markdown",
   "metadata": {},
   "source": [
    "### Grader"
   ]
  },
  {
   "cell_type": "code",
   "execution_count": 17,
   "metadata": {},
   "outputs": [
    {
     "name": "stdout",
     "output_type": "stream",
     "text": [
      "Grading your answer for ex1/partB. Please wait...\n",
      "\n",
      "Congratulations 🎉! Your answer is correct.\n",
      "Your cost is 32.\n",
      "Feel free to submit your answer.\n",
      "\n"
     ]
    }
   ],
   "source": [
    "from qc_grader import grade_ex1b\n",
    "\n",
    "grade_ex1b(qc_1b)"
   ]
  },
  {
   "cell_type": "markdown",
   "metadata": {},
   "source": [
    "### c) Circuit for j = 3\n",
    "<h3>\n",
    " $$|x,0,0\\rangle \\mapsto e^{i\\theta_{3}(x)}|x,y_{3}(x),0\\rangle$$"
   ]
  },
  {
   "cell_type": "markdown",
   "metadata": {},
   "source": [
    "## Solution\n",
    "As before, we had to analize a few cases before digging any further to find a pattern which helps us to solve the problem at hand. In this case the only combination that gives us a 1 in the third bit is if the four bits were one. So to solve this I implemented a 4 controlled cx gate. Which flips the target bit if the 4 controller bits were one. You can find a lot of this implementations accross the internet. Sadly I lost the original reference that I took to compute this 4 controlled cx gate, but you can look at my code to see the implementation of this circuit."
   ]
  },
  {
   "cell_type": "code",
   "execution_count": 31,
   "metadata": {},
   "outputs": [],
   "source": [
    "# Importing the qiskit module\n",
    "from qiskit import *\n",
    "\n",
    "# Defining input, output and scratch qubits\n",
    "x =     4 # number of input qubits\n",
    "y3 =    1 # number of output qubit \n",
    "s3 =    3 # number of scratch qubit\n",
    "\n",
    "# Defining Quantum Circuit with the given circuits\n",
    "def Circuit_3(In,Ou,Sc):\n",
    "    if Sc != 0:\n",
    "        # initiating required qubits\n",
    "        X = QuantumRegister(In, 'input') \n",
    "        Y = QuantumRegister(Ou, 'output') \n",
    "        S = QuantumRegister(Sc, 'scratch')  \n",
    "        \n",
    "        # creating circuit with above qubits\n",
    "        Circ = QuantumCircuit(X,Y,S)\n",
    "    else:\n",
    "        \n",
    "        # initiating required qubits\n",
    "        X = QuantumRegister(In, 'input') \n",
    "        Y = QuantumRegister(Ou, 'output') \n",
    "        \n",
    "        # creating circuit with above qubits\n",
    "        Circ = QuantumCircuit(X,Y)\n",
    "    \n",
    "    ##### Create you circuit below #########\n",
    "    \n",
    "    #toffoli between 0 and 1, result 5\n",
    "    Circ.h(5)\n",
    "    Circ.t(5)\n",
    "    Circ.cx(1,5)\n",
    "    Circ.tdg(5)\n",
    "    Circ.cx(0,5)\n",
    "    Circ.t(5)\n",
    "    Circ.cx(1,5)\n",
    "    Circ.tdg(5)\n",
    "    Circ.h(5)\n",
    "    \n",
    "    #toffoli between 2 and 5, result 6\n",
    "    Circ.h(6)\n",
    "    Circ.t(6)\n",
    "    Circ.cx(5,6)\n",
    "    Circ.tdg(6)\n",
    "    Circ.cx(2,6)\n",
    "    Circ.t(6)\n",
    "    Circ.cx(5,6)\n",
    "    Circ.tdg(6)\n",
    "    Circ.h(6)\n",
    "    \n",
    "    #toffoli between 3 and 6, result 7\n",
    "    Circ.h(7)\n",
    "    Circ.t(7)\n",
    "    Circ.cx(6,7)\n",
    "    Circ.tdg(7)\n",
    "    Circ.cx(3,7)\n",
    "    Circ.t(7)\n",
    "    Circ.cx(6,7)\n",
    "    Circ.tdg(7)\n",
    "    Circ.h(7)\n",
    "    \n",
    "    # flip if everybit was 1\n",
    "    Circ.cx(7,4)\n",
    "    \n",
    "        #toffoli between 3 and 6, result 7\n",
    "    Circ.h(7)\n",
    "    Circ.t(7)\n",
    "    Circ.cx(6,7)\n",
    "    Circ.tdg(7)\n",
    "    Circ.cx(3,7)\n",
    "    Circ.t(7)\n",
    "    Circ.cx(6,7)\n",
    "    Circ.tdg(7)\n",
    "    Circ.h(7)\n",
    "    \n",
    "        #toffoli between 2 and 5, result 6\n",
    "    Circ.h(6)\n",
    "    Circ.t(6)\n",
    "    Circ.cx(5,6)\n",
    "    Circ.tdg(6)\n",
    "    Circ.cx(2,6)\n",
    "    Circ.t(6)\n",
    "    Circ.cx(5,6)\n",
    "    Circ.tdg(6)\n",
    "    Circ.h(6)\n",
    "    \n",
    "        #toffoli between 0 and 1, result 5\n",
    "    Circ.h(5)\n",
    "    Circ.t(5)\n",
    "    Circ.cx(1,5)\n",
    "    Circ.tdg(5)\n",
    "    Circ.cx(0,5)\n",
    "    Circ.t(5)\n",
    "    Circ.cx(1,5)\n",
    "    Circ.tdg(5)\n",
    "    Circ.h(5)\n",
    "    \n",
    "    \n",
    "\n",
    "    \n",
    "    ########################################\n",
    "    \n",
    "    # Uncomment to draw quantum circuit\n",
    "   # display(Circ.draw('mpl'))\n",
    "    \n",
    "    # Transpiling the circuit into u, cnot\n",
    "    Circ = transpile(Circ, basis_gates=['u3','cx'])\n",
    "    \n",
    "    # Uncomment to draw transpiled circuit\n",
    "#     display(Circ.draw('mpl'))\n",
    "    \n",
    "    return Circ\n",
    "\n",
    "qc_1c = Circuit_3(x,y3,s3)"
   ]
  },
  {
   "cell_type": "markdown",
   "metadata": {},
   "source": [
    "### Grader"
   ]
  },
  {
   "cell_type": "code",
   "execution_count": 32,
   "metadata": {},
   "outputs": [
    {
     "name": "stdout",
     "output_type": "stream",
     "text": [
      "Grading your answer for ex1/partC. Please wait...\n",
      "\n",
      "Congratulations 🎉! Your answer is correct.\n",
      "Your cost is 44.\n",
      "Feel free to submit your answer.\n",
      "\n"
     ]
    }
   ],
   "source": [
    "from qc_grader import grade_ex1c\n",
    "\n",
    "grade_ex1c(qc_1c)"
   ]
  },
  {
   "cell_type": "markdown",
   "metadata": {},
   "source": [
    "## Circuit verification and Cost Metric\n",
    "\n",
    "$\\textbf{Costing metric:}$ Circuit implementation cost is computed as follows, \n",
    "$$\\text{Cost} = G+D+\\frac{nS}{2},$$ \n",
    "where $G$ is the number of $\\text{CNOT}$ gates used (note how the single-qubit gates are \"free\", which takes into account their relatively small implementation cost), $D$ is the two-qubit circuit depth (defined as the maximum length of the shortest path from any starting qubit to any ending qubit in the circuit going left, up, or down along the lines in the circuit diagram and counting the number of two-qubit gates), and $S$ is the number of scratch qubits used.  The timeout for verification is set to $5$ minutes.  All implementations that time out or compute any of the popcount outputs incorrectly are assigned the score of ${+}\\infty$; the implementation with the smallest value of $\\text{Cost}$ wins."
   ]
  },
  {
   "cell_type": "markdown",
   "metadata": {},
   "source": [
    "## References:\n",
    "\n",
    "ICPC Quantum challenge problems. The link isn't avalibable anymore, but the problems were taken and modified to fit the style of the blog."
   ]
  }
 ],
 "metadata": {
  "kernelspec": {
   "display_name": "Python 3",
   "language": "python",
   "name": "python3"
  },
  "language_info": {
   "codemirror_mode": {
    "name": "ipython",
    "version": 3
   },
   "file_extension": ".py",
   "mimetype": "text/x-python",
   "name": "python",
   "nbconvert_exporter": "python",
   "pygments_lexer": "ipython3",
   "version": "3.8.5"
  }
 },
 "nbformat": 4,
 "nbformat_minor": 4
}
