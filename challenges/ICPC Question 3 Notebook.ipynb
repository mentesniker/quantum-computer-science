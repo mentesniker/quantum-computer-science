{
 "cells": [
  {
   "cell_type": "markdown",
   "metadata": {},
   "source": [
    "# ICPC Quantum challenge problem three.\n",
    "\n",
    "The problem three was a series of circuits with the main concern of a applying a phase to the circuit if a condition was met. For example, if the multiplication of 3 qubits was one then you have to apply a phase of beta degrees to the circuit."
   ]
  },
  {
   "cell_type": "markdown",
   "metadata": {},
   "source": [
    "## Problem: Reflection unitaries"
   ]
  },
  {
   "cell_type": "markdown",
   "metadata": {},
   "source": [
    "In the previous two problems, the output of a classical Boolean function is computed into an additional qubit. However, quantum computers can also compute Boolean functions into the phase of a quantum state, which we explore in this problem.\n",
    "\n",
    "Suppose $f:\\{0,1\\}^n\\rightarrow\\{0,1\\}$ is a Boolean function. For $\\beta \\in R$, define an $\\textit{n}$-qubit unitary\n",
    "\n",
    "$$\n",
    "\\large\n",
    "\\begin{equation*}\n",
    "    U_f(\\beta) = \\sum_{x\\in\\{0,1\\}^n} e^{i\\beta f(x)}|x\\rangle \\langle x|\n",
    "\\tag{1}\n",
    "\\end{equation*}\n",
    "$$\n",
    "When $U_f$ is applied to computational basis state $|x\\rangle$ it adds a phase $e^{i\\beta}$ if $f(x) = 1$ and does  nothing otherwise.<br>\n",
    "Your goal in this problem is to implement $U_f$ for a variety of functions with $\\textit{n}$= 3\n",
    "<h3>\n",
    "\\begin{align}\n",
    "f_0(x_1x_2x_3)&=0,\\quad f_1(x_1x_2x_3)=x_1x_2x_3,\\quad f_2(x_1x_2x_3)=x_1x_2x_3+(1-x_1)(1-x_2)(1-x_3),\\\\\\nonumber\n",
    "f_3(x_1x_2x_3)&=x_1+x_2+x_3+x_1x_2x_3,\\quad f_4(x_1x_2x_3)=x_1+x_2+x_3.\n",
    "\\tag{2}\n",
    "\\end{align}\n",
    "</h3>\n",
    "Here, $f_m$ has m solutions to f(x) = 1. For instance,$f_2$ evaluates to 1 on the inputs x = 000 and x = 111.You may use $A \\geq 0$ ancilla qubits in your implementation initialized in $∣0^A\\rangle$ as long as they are returned to $∣0^A\\rangle$ by the end of the computation. \n",
    "\n",
    "The \"reflection unitaries\" $U_f(\\beta)$ are useful in some quantum algorithms. In particular, the famous Grover search algorithm uses these reflections to outperform classical search algorithms for unstructured lists."
   ]
  },
  {
   "cell_type": "markdown",
   "metadata": {},
   "source": [
    "###    $f_m$ for m = 0"
   ]
  },
  {
   "source": [
    "## SOLUTION\n",
    "This one was the easiest of all the excercises. You had to leave the circuit as before the application of the beta phase. So we only need to apply the phase and then apply it's inverse to get the original circuit. Easy."
   ],
   "cell_type": "markdown",
   "metadata": {}
  },
  {
   "cell_type": "code",
   "execution_count": 2,
   "metadata": {},
   "outputs": [],
   "source": [
    "\n",
    "# Importing the qiskit module\n",
    "from qiskit import *\n",
    "from qiskit.circuit import Parameter\n",
    "params = [Parameter('beta')]\n",
    "\n",
    "q0 =    3 # number of required qubits\n",
    "a0 =    0 # number of ancilla qubit\n",
    "\n",
    "# Defining Quantum Circuit with the given circuits\n",
    "def Circuit_0(q,a):\n",
    "    if a != 0:\n",
    "        # initiating required and ancilla qubits\n",
    "        Q = QuantumRegister(q, 'input') \n",
    "        A = QuantumRegister(a)  \n",
    "        \n",
    "        # creating circuit with above qubits\n",
    "        Circ = QuantumCircuit(Q,A)\n",
    "    else:\n",
    "        # initiating required qubits\n",
    "        Q = QuantumRegister(q, 'input') \n",
    "        \n",
    "        # creating circuit with above qubits\n",
    "        Circ = QuantumCircuit(Q)\n",
    "    \n",
    "    ##### Create you circuit below #########\n",
    "    params = [Parameter('beta')]\n",
    "    Circ.p(params[0], 0)\n",
    "    Circ.p(-params[0], 0)\n",
    "\n",
    "    \n",
    "    ########################################\n",
    "    \n",
    "    # Uncomment to draw quantum circuit\n",
    "   # display(Circ.draw('mpl'))\n",
    "    \n",
    "    # Transpiling the circuit into u, cnot\n",
    "    Circ = transpile(Circ, basis_gates=['u3','cx'])\n",
    "    \n",
    "    # Uncomment to draw transpiled circuit\n",
    "#     display(Circ.draw('mpl'))\n",
    "    \n",
    "    return Circ\n",
    "\n",
    "qc_0 = Circuit_0(q0,a0)"
   ]
  },
  {
   "cell_type": "markdown",
   "metadata": {},
   "source": [
    "### $f_m$ for m = 1"
   ]
  },
  {
   "source": [
    "## SOLUTION\n",
    "One thing to keep in mind is that we are only going to apply the phase if the qubits are all in the state $|1>$. We can check this condition by calculating a toffoli gate over the three input qubits to control an ancilla qubit and then applying the phase over the ancilla qubit. Then if all of input qubits were one we can apply the phase just as we wanted. If not, we don't apply the phase because applying a phase over the state $|0>$ has no effect. Remember that a qubit is initialized by default in the $|0>$ state."
   ],
   "cell_type": "markdown",
   "metadata": {}
  },
  {
   "cell_type": "code",
   "execution_count": 10,
   "metadata": {},
   "outputs": [
    {
     "data": {
      "image/png": "[encoded data removed]",
      "text/plain": [
       "<Figure size 307.586x264.88 with 1 Axes>"
      ]
     },
     "metadata": {},
     "output_type": "display_data"
    }
   ],
   "source": [
    "# Importing the qiskit module\n",
    "from qiskit import *\n",
    "from qiskit.circuit.library import CU1Gate\n",
    "from qiskit.circuit.library.standard_gates import XGate\n",
    "crz = CU1Gate(Parameter('beta'))\n",
    "c3x_gate = XGate().control(3)\n",
    "q1 =    3 # number of required qubits\n",
    "a1 =    1 # number of ancilla qubit\n",
    "\n",
    "# Defining Quantum Circuit with the given circuits\n",
    "def Circuit_1(q,a):\n",
    "    if a != 0:\n",
    "        # initiating required and ancilla qubits\n",
    "        Q = QuantumRegister(q, 'input') \n",
    "        A = QuantumRegister(a)  \n",
    "        \n",
    "        # creating circuit with above qubits\n",
    "        Circ = QuantumCircuit(Q,A)\n",
    "    else:\n",
    "        # initiating required qubits\n",
    "        Q = QuantumRegister(q, 'input') \n",
    "        \n",
    "        # creating circuit with above qubits\n",
    "        Circ = QuantumCircuit(Q)\n",
    "    \n",
    "    ##### Create you circuit below #########\n",
    "    Circ.append(c3x_gate,[Q[0],Q[1],Q[2],A[0]])\n",
    "    Circ.p(params[0], A[0])\n",
    "    Circ.append(c3x_gate,[Q[0],Q[1],Q[2],A[0]])\n",
    "\n",
    "    \n",
    "    ########################################\n",
    "    \n",
    "    # Uncomment to draw quantum circuit\n",
    "    display(Circ.draw('mpl'))\n",
    "    \n",
    "    # Transpiling the circuit into u, cnot\n",
    "    Circ = transpile(Circ, basis_gates=['u3','cx'])\n",
    "    \n",
    "    # Uncomment to draw transpiled circuit\n",
    "#     display(Circ.draw('mpl'))\n",
    "    \n",
    "    return Circ\n",
    "\n",
    "qc_1 = Circuit_1(q1,a1)"
   ]
  },
  {
   "cell_type": "markdown",
   "metadata": {},
   "source": [
    "###   $f_m$ for m = 2"
   ]
  },
  {
   "source": [
    "## SOLUTION\n",
    "Please note the following: we can apply the phase only if the three input qubits were either in the state $|1>$ or $|0>$. And we already know how to apply the phase if the three qubits are one. And to check if the three qubits are in the state $|0>$ before applying the phase is pretty easy. We only need to apply an X gate to the input qubits and then we can apply the phase in the same way as the previous exercise. Now it only remains the question as: How can we calculate the sum?. The answer is simple, we don't. If we apply the circuit for the multiplication ($x_1x_2x_3$) and then the circuit for the other part ($x_1x_2x_3+(1-x_1)(1-x_2)(1-x_3)$) they are going to cancell one another if the two of them were one. Which results in a phase which is not applied. The other parts of the circui that you are going to see are just some gates to return the qubits to their original state (because it was a requirement of the problem)."
   ],
   "cell_type": "markdown",
   "metadata": {}
  },
  {
   "cell_type": "code",
   "execution_count": 11,
   "metadata": {},
   "outputs": [
    {
     "data": {
      "image/png": "[encoded data removed]",
      "text/plain": [
       "<Figure size 909.586x445.48 with 1 Axes>"
      ]
     },
     "metadata": {},
     "output_type": "display_data"
    }
   ],
   "source": [
    "# Importing the qiskit module\n",
    "from qiskit import *\n",
    "\n",
    "\n",
    "q2 =    3 # number of required qubits\n",
    "a2 =  4  # number of ancilla qubit\n",
    "\n",
    "# Defining Quantum Circuit with the given circuits\n",
    "def Circuit_2(q,a):\n",
    "    if a != 0:\n",
    "        # initiating required and ancilla qubits\n",
    "        Q = QuantumRegister(q, 'input') \n",
    "        A = QuantumRegister(a)  \n",
    "        \n",
    "        # creating circuit with above qubits\n",
    "        Circ = QuantumCircuit(Q,A)\n",
    "    else:\n",
    "        # initiating required qubits\n",
    "        Q = QuantumRegister(q) \n",
    "        \n",
    "        # creating circuit with above qubits\n",
    "        Circ = QuantumCircuit(Q,A)\n",
    "    \n",
    "    ##### Create you circuit below #########\n",
    "    Circ.append(c3x_gate,[Q[0],Q[1],Q[2],A[3]])\n",
    "    Circ.x(0)\n",
    "    Circ.cx(0,A[0])\n",
    "    Circ.x(0)\n",
    "    Circ.x(1)\n",
    "    Circ.cx(1,A[1])\n",
    "    Circ.x(1)\n",
    "    Circ.x(2)\n",
    "    Circ.cx(2,A[2])\n",
    "    Circ.x(2)\n",
    "    Circ.append(c3x_gate,[A[0],A[1],A[2],A[3]])\n",
    "    Circ.p(params[0], A[3])\n",
    "    Circ.append(c3x_gate,[A[0],A[1],A[2],A[3]])\n",
    "    Circ.x(2)\n",
    "    Circ.cx(2,A[2])\n",
    "    Circ.x(2)\n",
    "    Circ.x(1)\n",
    "    Circ.cx(1,A[1])\n",
    "    Circ.x(1)\n",
    "    Circ.x(0)\n",
    "    Circ.cx(0,A[0])\n",
    "    Circ.x(0)\n",
    "    Circ.append(c3x_gate,[Q[0],Q[1],Q[2],A[3]])\n",
    "\n",
    "    \n",
    "    ########################################\n",
    "    \n",
    "    # Uncomment to draw quantum circuit\n",
    "    display(Circ.draw('mpl'))\n",
    "    \n",
    "    # Transpiling the circuit into u, cnot\n",
    "    Circ = transpile(Circ, basis_gates=['u3','cx'])\n",
    "    \n",
    "    # Uncomment to draw transpiled circuit\n",
    "#     display(Circ.draw('mpl'))\n",
    "    \n",
    "    return Circ\n",
    "\n",
    "qc_2 = Circuit_2(q2,a2)"
   ]
  },
  {
   "cell_type": "markdown",
   "metadata": {},
   "source": [
    "###  $f_m$ for m = 3"
   ]
  },
  {
   "source": [
    "## SOLUTION\n",
    "It may have seen that the excercises were becoming more and more difficult but it was the oposite we had everything we needed to calculate the excercises. First of all if the three of the input qubits were in the state $|1>$ then we already know how to solve this problem. If $x_1$ was in the $|1>$ state then we only need to apply a single cx over an ancilla qubit to apply the phase. The same thing happens with $x_2$ and $x_3$. And for the addition we saw in the previous excercise that we can almost ignore it. So the solution was to plug in these things inside the circuit. And of course we needed to apply the same gates in reverse order to leave everything in the original state."
   ],
   "cell_type": "markdown",
   "metadata": {}
  },
  {
   "cell_type": "code",
   "execution_count": 12,
   "metadata": {},
   "outputs": [
    {
     "data": {
      "image/png": "[encoded data removed]",
      "text/plain": [
       "<Figure size 789.186x325.08 with 1 Axes>"
      ]
     },
     "metadata": {},
     "output_type": "display_data"
    }
   ],
   "source": [
    "# Importing the qiskit module\n",
    "from qiskit import *\n",
    "\n",
    "\n",
    "q3 =   3  # number of required qubits\n",
    "a3 =   2 # number of ancilla qubit\n",
    "\n",
    "# Defining Quantum Circuit with the given circuits\n",
    "def Circuit_3(q,a):\n",
    "    if a != 0:\n",
    "        # initiating required and ancilla qubits\n",
    "        Q = QuantumRegister(q, 'input') \n",
    "        A = QuantumRegister(a)  \n",
    "        \n",
    "        # creating circuit with above qubits\n",
    "        Circ = QuantumCircuit(Q,A)\n",
    "    else:\n",
    "        # initiating required qubits\n",
    "        Q = QuantumRegister(q) \n",
    "        \n",
    "        # creating circuit with above qubits\n",
    "        Circ = QuantumCircuit(Q,A)\n",
    "    \n",
    "    ##### Create you circuit below #########\n",
    "    Circ.append(c3x_gate,[0,1,2,A[0]])\n",
    "    Circ.cx(A[0],A[1])\n",
    "    Circ.cx(0,A[1])\n",
    "    Circ.cx(1,A[1])\n",
    "    Circ.cx(2,A[1])\n",
    "    Circ.p(params[0], A[1])\n",
    "    Circ.cx(2,A[1])\n",
    "    Circ.cx(1,A[1])\n",
    "    Circ.cx(0,A[1])\n",
    "    Circ.cx(A[0],A[1])\n",
    "    Circ.append(c3x_gate,[0,1,2,A[0]])\n",
    "\n",
    "    \n",
    "    ########################################\n",
    "    \n",
    "    # Uncomment to draw quantum circuit\n",
    "    display(Circ.draw('mpl'))\n",
    "    \n",
    "    # Transpiling the circuit into u, cnot\n",
    "    Circ = transpile(Circ, basis_gates=['u3','cx'])\n",
    "    \n",
    "    # Uncomment to draw transpiled circuit\n",
    "#     display(Circ.draw('mpl'))\n",
    "    \n",
    "    return Circ\n",
    "\n",
    "qc_3 = Circuit_3(q3,a3)"
   ]
  },
  {
   "cell_type": "markdown",
   "metadata": {},
   "source": [
    "###  $f_m$ for m = 4"
   ]
  },
  {
   "source": [
    "## SOLUTION\n",
    "And we finally arrived to the last excercise of the challenge. It was simple because all we had to do was to calculate a cx for each input qubit. The reason was the same as the previous excercise were we applied a cx for each input qubit."
   ],
   "cell_type": "markdown",
   "metadata": {}
  },
  {
   "cell_type": "code",
   "execution_count": 13,
   "metadata": {},
   "outputs": [
    {
     "data": {
      "image/png": "[encoded data removed]",
      "text/plain": [
       "<Figure size 548.386x264.88 with 1 Axes>"
      ]
     },
     "metadata": {},
     "output_type": "display_data"
    }
   ],
   "source": [
    "# Importing the qiskit module\n",
    "from qiskit import *\n",
    "\n",
    "\n",
    "q4 =   3  # number of required qubits\n",
    "a4 =  1  # number of ancilla qubit\n",
    "\n",
    "# Defining Quantum Circuit with the given circuits\n",
    "def Circuit_4(q,a):\n",
    "    if a != 0:\n",
    "        # initiating required and ancilla qubits\n",
    "        Q = QuantumRegister(q, 'input') \n",
    "        A = QuantumRegister(a)  \n",
    "        \n",
    "        # creating circuit with above qubits\n",
    "        Circ = QuantumCircuit(Q,A)\n",
    "    else:\n",
    "        # initiating required qubits\n",
    "        Q = QuantumRegister(q) \n",
    "        \n",
    "        # creating circuit with above qubits\n",
    "        Circ = QuantumCircuit(Q,A)\n",
    "    \n",
    "    ##### Create you circuit below #########\n",
    "    Circ.cx(0,A[0])\n",
    "    Circ.cx(1,A[0])\n",
    "    Circ.cx(2,A[0])\n",
    "    Circ.p(params[0], A[0])\n",
    "    Circ.cx(2,A[0])\n",
    "    Circ.cx(1,A[0])\n",
    "    Circ.cx(0,A[0])\n",
    "    \n",
    "    \n",
    "\n",
    "    \n",
    "    ########################################\n",
    "    \n",
    "    # Uncomment to draw quantum circuit\n",
    "    display(Circ.draw('mpl'))\n",
    "    \n",
    "    # Transpiling the circuit into u, cnot\n",
    "    Circ = transpile(Circ, basis_gates=['u3','cx'])\n",
    "    \n",
    "    # Uncomment to draw transpiled circuit\n",
    "#     display(Circ.draw('mpl'))\n",
    "    \n",
    "    return Circ\n",
    "\n",
    "qc_4 = Circuit_4(q4,a4)"
   ]
  },
  {
   "cell_type": "markdown",
   "metadata": {},
   "source": [
    "### Grader"
   ]
  },
  {
   "cell_type": "code",
   "execution_count": 14,
   "metadata": {},
   "outputs": [
    {
     "name": "stdout",
     "output_type": "stream",
     "text": [
      "Checking for circuit 0 ...\n",
      "Checking for circuit 1 ...\n",
      "Checking for circuit 2 ...\n",
      "Checking for circuit 3 ...\n",
      "Checking for circuit 4 ...\n",
      "Grading your answer for ex3. Please wait...\n",
      "\n",
      "Congratulations 🎉! Your answer is correct.\n",
      "Your cost is 2632.\n",
      "Feel free to submit your answer.\n",
      "\n",
      "--- 6.97359299659729 seconds ---\n"
     ]
    }
   ],
   "source": [
    "all_circuits = [qc_0, qc_1, qc_2, qc_3, qc_4]\n",
    "from qc_grader import grade_ex3\n",
    "import time\n",
    "start_time = time.time()\n",
    "grade_ex3(all_circuits)\n",
    "print(\"--- %s seconds ---\" % (time.time() - start_time))"
   ]
  },
  {
   "cell_type": "markdown",
   "metadata": {},
   "source": [
    "## Circuit verification and Cost Metric\n",
    "\n",
    "$\\textbf{Costing metric:}$ For the $m^{th}$ circuit, let $G_m$ be the number of 2-qubit gates, $D_m$ the depth,  and $A_m$ the number of ancillas. Your solution quality will be judged on the following cost metric: \n",
    "$$\\text{Cost} = \\sum_{m=0}^4 10G_m + D_m(n+A_m)$$ .\n",
    "The reasoning behind this metric relates to the error rates in quantum circuits. Notice that $D_m(n+A_m)$ is roughly the spacetime volume of the circuit (the collective number of timesteps qubits participating in thecircuit must be kept alive). Also, two-qubit gates are roughly (optimistically) 10 times as likely to fail as idling qubits. Thus, $Cost_n$ is roughly proportional to error rate of all of your circuits combined."
   ]
  },
  {
   "cell_type": "markdown",
   "metadata": {},
   "source": [
    "## References:\n",
    "\n",
    "The ICPC Quantum challenge is only accessible through this [github repo](https://github.com/qiskit-community/ICPC-Quantum-Challenge-2021)."
   ]
  }
 ],
 "metadata": {
  "kernelspec": {
   "display_name": "Python 3",
   "language": "python",
   "name": "python3"
  },
  "language_info": {
   "codemirror_mode": {
    "name": "ipython",
    "version": 3
   },
   "file_extension": ".py",
   "mimetype": "text/x-python",
   "name": "python",
   "nbconvert_exporter": "python",
   "pygments_lexer": "ipython3",
   "version": "3.8.5"
  }
 },
 "nbformat": 4,
 "nbformat_minor": 4
}