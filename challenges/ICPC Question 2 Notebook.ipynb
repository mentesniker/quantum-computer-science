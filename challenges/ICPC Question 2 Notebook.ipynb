{
 "cells": [
  {
   "cell_type": "markdown",
   "metadata": {},
   "source": [
    "# ICPC Quantum challenge problem two.\n",
    "\n",
    "The problem two was a continuation to the full adder of the problem one. The only difference was that instead of asking for the number of ones in 4 bits, we were asked for the number of ones in 15 and 16 bits. Additionaly, we will output all of the qubits at once (in excercise 1 we output one by one)."
   ]
  },
  {
   "cell_type": "markdown",
   "metadata": {},
   "source": [
    "## 2. Compute the popcount function for n(large number of inputs) qubits\n",
    "Compute the popcount function for n = 15 qubits. \n",
    "<h3>\n",
    "$$|x,0,0\\rangle \\mapsto e^{i\\theta(x)}|x,\\text{Popcount}(x),0\\rangle$$"
   ]
  },
  {
   "cell_type": "markdown",
   "metadata": {},
   "source": [
    "### a) Circuit for n = 15 Popcount function"
   ]
  },
  {
   "cell_type": "markdown",
   "metadata": {},
   "source": [
    "## Solution\n",
    "To solve this one we need to take a more algorithmic approach. Or at least it was the way that helped me find a solution. Before I explain this algorithm please take note of the following: when you add a 1 to any bit it flips it's value. If it's already 1 then you have to sum a carry into the next bit which will flip the value of the next bit. To simulate this interaction in a quantum computer we can use controlled cx gates. For example to \"sum\" a carry over the third bit we need to make sure that the three preceding bits were one in order to flip the value of the third bit. So we can use a three controlled cx gate to achieve the same result. And for the second bit we have to do the same with a 2 controlled cx and so on for the rest of the bits. So the algorithm was: For each qubit in the input qubits calculate the controlled 4 cx gate over the 4 qubit, then calculate the controlled 3 cx gate over the 3 qubit, then calculate the controlled 2 cx gate over the 2 qubit, and finally calculate a cx over the first qubit."
   ]
  },
  {
   "cell_type": "code",
   "execution_count": 8,
   "metadata": {},
   "outputs": [],
   "source": [
    "# Importing the qiskit module\n",
    "#!pip install -I git+https://github.com/qiskit-community/Quantum-Challenge-Grader.git\n",
    "from qiskit import *\n",
    "from qiskit.circuit import QuantumCircuit, Parameter\n",
    "from qiskit.circuit.library.standard_gates import XGate\n",
    "c4x_gate = XGate().control(4)\n",
    "c3x_gate = XGate().control(3)\n",
    "c2x_gate = XGate().control(2)\n",
    "\n",
    "# Defining input, output and scratch qubits\n",
    "x15 =    15 # number of input qubits\n",
    "y15 =    4 # number of output qubit \n",
    "s15 =    0 # number of scratch qubit\n",
    "\n",
    "# Defining Quantum Circuit with the given circuits\n",
    "def Circuit_15(In,Ou,Sc):\n",
    "    if Sc != 0:\n",
    "        # initiating required qubits\n",
    "        X = QuantumRegister(In, 'input') \n",
    "        Y = QuantumRegister(Ou, 'output') \n",
    "        S = QuantumRegister(Sc, 'scratch')  \n",
    "        \n",
    "        # creating circuit with above qubits\n",
    "        Circ = QuantumCircuit(X,Y,S)\n",
    "    else:\n",
    "        \n",
    "        # initiating required qubits\n",
    "        X = QuantumRegister(In, 'input') \n",
    "        Y= QuantumRegister(Ou, 'output') \n",
    "        \n",
    "        # creating circuit with above qubits\n",
    "        Circ = QuantumCircuit(X,Y)\n",
    "    \n",
    "    ##### Create you circuit below #########\n",
    "    for qubit in range(len(X)):\n",
    "        Circ.append(c4x_gate,[qubit,Y[0],Y[1],Y[2],Y[3]])\n",
    "        Circ.append(c3x_gate,[qubit,Y[0],Y[1],Y[2]])\n",
    "        Circ.append(c2x_gate,[qubit,Y[0],Y[1]])\n",
    "        Circ.cx(qubit,Y[0])\n",
    "\n",
    "    \n",
    "    ########################################\n",
    "    \n",
    "    # Uncomment to draw quantum circuit\n",
    " #   display(Circ.draw('mpl'))\n",
    "    \n",
    "    # Transpiling the circuit into u, cnot\n",
    "    Circ = transpile(Circ, basis_gates=['u3','cx'])\n",
    "    \n",
    "    # Uncomment to draw transpiled circuit\n",
    "#     display(Circ.draw('mpl'))\n",
    "    \n",
    "    return Circ\n",
    "\n",
    "qc_2a = Circuit_15(x15,y15,s15)"
   ]
  },
  {
   "cell_type": "markdown",
   "metadata": {},
   "source": [
    "### Grader"
   ]
  },
  {
   "cell_type": "code",
   "execution_count": 9,
   "metadata": {},
   "outputs": [
    {
     "name": "stdout",
     "output_type": "stream",
     "text": [
      "Grading your answer for ex2/partA. Please wait...\n",
      "\n",
      "Congratulations 🎉! Your answer is correct.\n",
      "Your cost is 1548.\n",
      "Feel free to submit your answer.\n",
      "\n"
     ]
    }
   ],
   "source": [
    "from qc_grader import grade_ex2a\n",
    "\n",
    "grade_ex2a(qc_2a)"
   ]
  },
  {
   "cell_type": "markdown",
   "metadata": {},
   "source": [
    "### b) Circuit for n = 16 Popcount function"
   ]
  },
  {
   "source": [
    "## SOLUTION\n",
    "To solve this one I used the same approach as the previous excercise with the only difference that we had to use an additional 5 controlled cx gate in order to calculate a carry for the last bit in the output."
   ],
   "cell_type": "markdown",
   "metadata": {}
  },
  {
   "cell_type": "code",
   "execution_count": 14,
   "metadata": {},
   "outputs": [],
   "source": [
    "# Importing the qiskit module\n",
    "from qiskit import *\n",
    "\n",
    "c5x_gate = XGate().control(5)\n",
    "\n",
    "# Defining input, output and scratch qubits\n",
    "x16 =    16 # number of input qubits\n",
    "y16 =    5 # number of output qubit \n",
    "s16 =    0 # number of scratch qubit\n",
    "\n",
    "# Defining Quantum Circuit with the given circuits\n",
    "def Circuit_16(In,Ou,Sc):\n",
    "    if Sc != 0:\n",
    "        # initiating required qubits\n",
    "        X = QuantumRegister(In, 'input') \n",
    "        Y= QuantumRegister(Ou, 'output') \n",
    "        S = QuantumRegister(Sc, 'scratch')  \n",
    "        \n",
    "        # creating circuit with above qubits\n",
    "        Circ = QuantumCircuit(X,Y,S)\n",
    "    else:\n",
    "        \n",
    "        # initiating required qubits\n",
    "        X = QuantumRegister(In, 'input') \n",
    "        Y= QuantumRegister(Ou, 'output') \n",
    "        \n",
    "        # creating circuit with above qubits\n",
    "        Circ = QuantumCircuit(X,Y)\n",
    "    \n",
    "    ##### Create you circuit below #########\n",
    "    for qubit in range(len(X)):\n",
    "        Circ.append(c5x_gate,[qubit,Y[0],Y[1],Y[2],Y[3],Y[4]])\n",
    "        Circ.append(c4x_gate,[qubit,Y[0],Y[1],Y[2],Y[3]])\n",
    "        Circ.append(c3x_gate,[qubit,Y[0],Y[1],Y[2]])\n",
    "        Circ.append(c2x_gate,[qubit,Y[0],Y[1]])\n",
    "        Circ.cx(qubit,Y[0])\n",
    "        \n",
    "    \n",
    "    \n",
    "    ########################################\n",
    "    \n",
    "    # Uncomment to draw quantum circuit\n",
    "#     display(Circ.draw('mpl'))\n",
    "    \n",
    "    # Transpiling the circuit into u, cnot\n",
    "    Circ = transpile(Circ, basis_gates=['u3','cx'])\n",
    "    \n",
    "    # Uncomment to draw transpiled circuit\n",
    "#     display(Circ.draw('mpl'))\n",
    "    \n",
    "    return Circ\n",
    "\n",
    "qc_2b = Circuit_16(x16,y16,s16)"
   ]
  },
  {
   "cell_type": "markdown",
   "metadata": {},
   "source": [
    "### Grader "
   ]
  },
  {
   "cell_type": "code",
   "execution_count": 15,
   "metadata": {},
   "outputs": [
    {
     "name": "stdout",
     "output_type": "stream",
     "text": [
      "Grading your answer for ex2/partB. Please wait...\n",
      "\n",
      "Congratulations 🎉! Your answer is correct.\n",
      "Your cost is 1651.\n",
      "Feel free to submit your answer.\n",
      "\n"
     ]
    }
   ],
   "source": [
    "from qc_grader import grade_ex2b\n",
    "\n",
    "grade_ex2b(qc_2b)"
   ]
  },
  {
   "cell_type": "markdown",
   "metadata": {},
   "source": [
    "## Circuit verification and Cost Metric\n",
    "\n",
    "$\\textbf{Costing metric:}$ Circuit implementation cost is computed as follows, \n",
    "$$\\text{Cost} = G+D+\\frac{nS}{2},$$ \n",
    "where $G$ is the number of $\\text{CNOT}$ gates used (note how the single-qubit gates are \"free\", which takes into account their relatively small implementation cost), $D$ is the two-qubit circuit depth (defined as the maximum length of the shortest path from any starting qubit to any ending qubit in the circuit going left, up, or down along the lines in the circuit diagram and counting the number of two-qubit gates), and $S$ is the number of scratch qubits used.  The timeout for verification is set to $5$ minutes.  All implementations that time out or compute any of the popcount outputs incorrectly are assigned the score of ${+}\\infty$; the implementation with the smallest value of $\\text{Cost}$ wins."
   ]
  },
  {
   "cell_type": "markdown",
   "metadata": {},
   "source": [
    "## References:\n",
    "\n",
    "ICPC Quantum challenge problems. The link isn't avalibable anymore, but the problems were taken and modified to fit the style of the blog."
   ]
  }
 ],
 "metadata": {
  "kernelspec": {
   "display_name": "Python 3",
   "language": "python",
   "name": "python3"
  },
  "language_info": {
   "codemirror_mode": {
    "name": "ipython",
    "version": 3
   },
   "file_extension": ".py",
   "mimetype": "text/x-python",
   "name": "python",
   "nbconvert_exporter": "python",
   "pygments_lexer": "ipython3",
   "version": "3.8.5"
  }
 },
 "nbformat": 4,
 "nbformat_minor": 4
}