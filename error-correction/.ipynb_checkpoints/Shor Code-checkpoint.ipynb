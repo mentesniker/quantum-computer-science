{
 "cells": [
  {
   "cell_type": "markdown",
   "metadata": {},
   "source": [
    "# Shor code\n",
    "In the last post we saw that we can correct X-Gate errors or Y-Gate errors, but not both. So to address this issue Shor created a code which is capable of correcting both type of errors!\n",
    "It's really similar to the 3-bit sign flip code we saw in the previous post however, in order to make shors code works we need more qubits.\n",
    "\n",
    "As in the other posts, we make the assumption that the error happens in only one part of the circuit. And also, the error only affects one qubit at a time."
   ]
  },
  {
   "cell_type": "markdown",
   "metadata": {},
   "source": [
    "First, let's define some functions that will be useful for later. The first two functions transform a string to bits and vice versa. The get_noise applies a random gate on a random qubit if a probability check up is met. Additionally this function apply one or two or three gates depending on a probability checkup. Finally, we have codificate which codificates a bit string into its equivalent in qubits."
   ]
  },
  {
   "cell_type": "code",
   "execution_count": 178,
   "metadata": {},
   "outputs": [],
   "source": [
    "from qiskit import QuantumCircuit, QuantumRegister, Aer, execute, ClassicalRegister\n",
    "from qiskit.ignis.verification.topological_codes import RepetitionCode\n",
    "from qiskit.ignis.verification.topological_codes import lookuptable_decoding\n",
    "from qiskit.ignis.verification.topological_codes import GraphDecoder\n",
    "from qiskit.providers.aer.noise import NoiseModel\n",
    "from qiskit.providers.aer.noise.errors import pauli_error, depolarizing_error\n",
    "from qiskit.ignis.mitigation.measurement import (complete_meas_cal,CompleteMeasFitter)\n",
    "from qiskit.visualization import plot_histogram\n",
    "import random\n",
    "backend = Aer.get_backend('qasm_simulator')\n",
    "\n",
    "def tobits(s):\n",
    "    result = []\n",
    "    for c in s:\n",
    "        bits = bin(ord(c))[2:]\n",
    "        bits = '00000000'[len(bits):] + bits\n",
    "        result.extend([int(b) for b in bits])\n",
    "    return ''.join([str(x) for x in result])\n",
    "\n",
    "def frombits(bits):\n",
    "    chars = []\n",
    "    for b in range(int(len(bits) / 8)):\n",
    "        byte = bits[b*8:(b+1)*8]\n",
    "        chars.append(chr(int(''.join([str(bit) for bit in byte]), 2)))\n",
    "    return ''.join(chars)\n",
    "\n",
    "def get_noise(circuit,probability,qubits):\n",
    "    random_number = random.uniform(0, 1)\n",
    "    if(random_number <= probability):\n",
    "        qubit = random.randint(0,len(qubits)-1)\n",
    "        if(random.randint(0,3) == 0):\n",
    "            circuit.x(qubit)\n",
    "        if(random.randint(0,3) == 2):\n",
    "            circuit.y(0)\n",
    "    return circuit\n",
    "\n",
    "def codificate(bitString):\n",
    "    qubits = list()\n",
    "    for i in range(len(bitString)):\n",
    "        mycircuit = QuantumCircuit(1,1)\n",
    "        if(bitString[i] == \"1\"):\n",
    "            mycircuit.x(0)\n",
    "        qubits.append(mycircuit)\n",
    "    return qubits"
   ]
  },
  {
   "cell_type": "markdown",
   "metadata": {},
   "source": [
    "First let's see the result for the string without any noise on the circuit to know what we are aiming to accomplish."
   ]
  },
  {
   "cell_type": "code",
   "execution_count": 179,
   "metadata": {},
   "outputs": [
    {
     "name": "stdout",
     "output_type": "stream",
     "text": [
      "I like dogs\n"
     ]
    }
   ],
   "source": [
    "m0 = tobits(\"I like dogs\") \n",
    "qubits = codificate(m0)\n",
    "measurements = list()\n",
    "for i in range(len(qubits)):\n",
    "    qubit = qubits[i]\n",
    "    qubit.measure(0,0)\n",
    "    result = execute(qubit, backend, shots=1, memory=True).result()\n",
    "    measurements.append(int(result.get_memory()[0]))\n",
    "print(frombits(measurements))"
   ]
  },
  {
   "cell_type": "markdown",
   "metadata": {},
   "source": [
    "Next we apply the circuit for the error correction. It consists of eigth additional qubits that check if one qubit had changed. Note something important in the construction of this circuit: we have a toffoly gate. A toffoly gate only flip the selected qubit if the two controller qubits are one. This is perfect for us because in the previous circuits we had to check the value of the registers in order to know if we had to apply a gate to correct the errors. We can avoid this meassurement if we use a toffoly gate just like described in the circuit."
   ]
  },
  {
   "cell_type": "code",
   "execution_count": 180,
   "metadata": {},
   "outputs": [],
   "source": [
    "for i in range(len(qubits)):\n",
    "    cb = QuantumRegister(1,'code_qubit')\n",
    "    lq = QuantumRegister(8,'ancilla_qubit')\n",
    "    out = ClassicalRegister(1,'output_bit')\n",
    "    mycircuit = QuantumCircuit(cb,lq,out)\n",
    "    if(m0[i] == \"1\"):\n",
    "        mycircuit.x(0)\n",
    "    mycircuit.cx(0,[3,6])\n",
    "    mycircuit.h([0,3,6])\n",
    "    mycircuit.cx(0,[1,2])\n",
    "    mycircuit.cx(3,[4,5])\n",
    "    mycircuit.cx(6,[7,8])\n",
    "    mycircuit.barrier()\n",
    "    mycircuit = get_noise(mycircuit,0.9,range(9))\n",
    "    mycircuit.barrier()\n",
    "    mycircuit.cx(0,[1,2])\n",
    "    mycircuit.cx(3,[4,5])\n",
    "    mycircuit.cx(6,[7,8])\n",
    "    mycircuit.ccx(2,1,0)\n",
    "    mycircuit.ccx(5,4,3)\n",
    "    mycircuit.ccx(8,7,6)\n",
    "    mycircuit.h([0,3,6])\n",
    "    mycircuit.cx(0,[3,6])\n",
    "    mycircuit.ccx(6,2,0)\n",
    "    mycircuit.measure(0,0)\n",
    "    qubits[i] = mycircuit"
   ]
  },
  {
   "cell_type": "code",
   "execution_count": 181,
   "metadata": {},
   "outputs": [
    {
     "data": {
      "text/html": [
       "<pre style=\"word-wrap: normal;white-space: pre;background: #fff0;line-height: 1.1;font-family: &quot;Courier New&quot;,Courier,monospace\">                           ┌───┐           ░  ░           ┌───┐┌───┐          »\n",
       "   code_qubit_0: ──■────■──┤ H ├──■────■───░──░───■────■──┤ X ├┤ H ├──■────■──»\n",
       "                   │    │  └───┘┌─┴─┐  │   ░  ░ ┌─┴─┐  │  └─┬─┘└───┘  │    │  »\n",
       "ancilla_qubit_0: ──┼────┼───────┤ X ├──┼───░──░─┤ X ├──┼────■─────────┼────┼──»\n",
       "                   │    │       └───┘┌─┴─┐ ░  ░ └───┘┌─┴─┐  │         │    │  »\n",
       "ancilla_qubit_1: ──┼────┼────────────┤ X ├─░──░──────┤ X ├──■─────────┼────┼──»\n",
       "                 ┌─┴─┐  │  ┌───┐     └───┘ ░  ░      └───┘┌───┐┌───┐┌─┴─┐  │  »\n",
       "ancilla_qubit_2: ┤ X ├──┼──┤ H ├──■────■───░──░───■────■──┤ X ├┤ H ├┤ X ├──┼──»\n",
       "                 └───┘  │  └───┘┌─┴─┐  │   ░  ░ ┌─┴─┐  │  └─┬─┘└───┘└───┘  │  »\n",
       "ancilla_qubit_3: ───────┼───────┤ X ├──┼───░──░─┤ X ├──┼────■──────────────┼──»\n",
       "                        │       └───┘┌─┴─┐ ░  ░ └───┘┌─┴─┐  │              │  »\n",
       "ancilla_qubit_4: ───────┼────────────┤ X ├─░──░──────┤ X ├──■──────────────┼──»\n",
       "                      ┌─┴─┐┌───┐     └───┘ ░  ░      └───┘┌───┐┌───┐     ┌─┴─┐»\n",
       "ancilla_qubit_5: ─────┤ X ├┤ H ├──■────■───░──░───■────■──┤ X ├┤ H ├─────┤ X ├»\n",
       "                      └───┘└───┘┌─┴─┐  │   ░  ░ ┌─┴─┐  │  └─┬─┘└───┘     └───┘»\n",
       "ancilla_qubit_6: ───────────────┤ X ├──┼───░──░─┤ X ├──┼────■─────────────────»\n",
       "                                └───┘┌─┴─┐ ░  ░ └───┘┌─┴─┐  │                 »\n",
       "ancilla_qubit_7: ────────────────────┤ X ├─░──░──────┤ X ├──■─────────────────»\n",
       "                                     └───┘ ░  ░      └───┘                    »\n",
       "   output_bit: 1/═════════════════════════════════════════════════════════════»\n",
       "                                                                              »\n",
       "«                 ┌───┐┌─┐\n",
       "«   code_qubit_0: ┤ X ├┤M├\n",
       "«                 └─┬─┘└╥┘\n",
       "«ancilla_qubit_0: ──┼───╫─\n",
       "«                   │   ║ \n",
       "«ancilla_qubit_1: ──■───╫─\n",
       "«                   │   ║ \n",
       "«ancilla_qubit_2: ──┼───╫─\n",
       "«                   │   ║ \n",
       "«ancilla_qubit_3: ──┼───╫─\n",
       "«                   │   ║ \n",
       "«ancilla_qubit_4: ──┼───╫─\n",
       "«                   │   ║ \n",
       "«ancilla_qubit_5: ──■───╫─\n",
       "«                       ║ \n",
       "«ancilla_qubit_6: ──────╫─\n",
       "«                       ║ \n",
       "«ancilla_qubit_7: ──────╫─\n",
       "«                       ║ \n",
       "«   output_bit: 1/══════╩═\n",
       "«                       0 </pre>"
      ],
      "text/plain": [
       "                           ┌───┐           ░  ░           ┌───┐┌───┐          »\n",
       "   code_qubit_0: ──■────■──┤ H ├──■────■───░──░───■────■──┤ X ├┤ H ├──■────■──»\n",
       "                   │    │  └───┘┌─┴─┐  │   ░  ░ ┌─┴─┐  │  └─┬─┘└───┘  │    │  »\n",
       "ancilla_qubit_0: ──┼────┼───────┤ X ├──┼───░──░─┤ X ├──┼────■─────────┼────┼──»\n",
       "                   │    │       └───┘┌─┴─┐ ░  ░ └───┘┌─┴─┐  │         │    │  »\n",
       "ancilla_qubit_1: ──┼────┼────────────┤ X ├─░──░──────┤ X ├──■─────────┼────┼──»\n",
       "                 ┌─┴─┐  │  ┌───┐     └───┘ ░  ░      └───┘┌───┐┌───┐┌─┴─┐  │  »\n",
       "ancilla_qubit_2: ┤ X ├──┼──┤ H ├──■────■───░──░───■────■──┤ X ├┤ H ├┤ X ├──┼──»\n",
       "                 └───┘  │  └───┘┌─┴─┐  │   ░  ░ ┌─┴─┐  │  └─┬─┘└───┘└───┘  │  »\n",
       "ancilla_qubit_3: ───────┼───────┤ X ├──┼───░──░─┤ X ├──┼────■──────────────┼──»\n",
       "                        │       └───┘┌─┴─┐ ░  ░ └───┘┌─┴─┐  │              │  »\n",
       "ancilla_qubit_4: ───────┼────────────┤ X ├─░──░──────┤ X ├──■──────────────┼──»\n",
       "                      ┌─┴─┐┌───┐     └───┘ ░  ░      └───┘┌───┐┌───┐     ┌─┴─┐»\n",
       "ancilla_qubit_5: ─────┤ X ├┤ H ├──■────■───░──░───■────■──┤ X ├┤ H ├─────┤ X ├»\n",
       "                      └───┘└───┘┌─┴─┐  │   ░  ░ ┌─┴─┐  │  └─┬─┘└───┘     └───┘»\n",
       "ancilla_qubit_6: ───────────────┤ X ├──┼───░──░─┤ X ├──┼────■─────────────────»\n",
       "                                └───┘┌─┴─┐ ░  ░ └───┘┌─┴─┐  │                 »\n",
       "ancilla_qubit_7: ────────────────────┤ X ├─░──░──────┤ X ├──■─────────────────»\n",
       "                                     └───┘ ░  ░      └───┘                    »\n",
       "   output_bit: 1/═════════════════════════════════════════════════════════════»\n",
       "                                                                              »\n",
       "«                 ┌───┐┌─┐\n",
       "«   code_qubit_0: ┤ X ├┤M├\n",
       "«                 └─┬─┘└╥┘\n",
       "«ancilla_qubit_0: ──┼───╫─\n",
       "«                   │   ║ \n",
       "«ancilla_qubit_1: ──■───╫─\n",
       "«                   │   ║ \n",
       "«ancilla_qubit_2: ──┼───╫─\n",
       "«                   │   ║ \n",
       "«ancilla_qubit_3: ──┼───╫─\n",
       "«                   │   ║ \n",
       "«ancilla_qubit_4: ──┼───╫─\n",
       "«                   │   ║ \n",
       "«ancilla_qubit_5: ──■───╫─\n",
       "«                       ║ \n",
       "«ancilla_qubit_6: ──────╫─\n",
       "«                       ║ \n",
       "«ancilla_qubit_7: ──────╫─\n",
       "«                       ║ \n",
       "«   output_bit: 1/══════╩═\n",
       "«                       0 "
      ]
     },
     "execution_count": 181,
     "metadata": {},
     "output_type": "execute_result"
    }
   ],
   "source": [
    "qubits[0].draw()"
   ]
  },
  {
   "cell_type": "code",
   "execution_count": 182,
   "metadata": {},
   "outputs": [
    {
     "name": "stdout",
     "output_type": "stream",
     "text": [
      "with error correction the string was: I like dogs\n"
     ]
    }
   ],
   "source": [
    "raw_bits = list()\n",
    "for i in range(len(qubits)):\n",
    "    qubit = qubits[i]\n",
    "    qubit.measure(0,0)\n",
    "    result = execute(qubit, backend, shots=1, memory=True).result()\n",
    "    bits = result.get_memory()[0]\n",
    "    raw_bits.append(int(bits[0]))\n",
    "print(\"with error correction the string was: \" + frombits(raw_bits))"
   ]
  },
  {
   "cell_type": "markdown",
   "metadata": {},
   "source": [
    "As you can see it works perfectly even though we had three types of error!. However this is no silver bullet because we can have rotations by 30, 45, 46, 47,.... and so on. To correct this type of errors we would have to apply other type of correction codes. \n",
    "\n",
    "Other thing worthy of notice is that in the proccess of finding the perfect error correction algorithm we used more and more qubits. This is a bad thing for quantum computers because the number of quantum bits will be reduce in order to mitigate errors. Let's hope that in a future, researchers find a way to correct errors in a more efficient way."
   ]
  },
  {
   "cell_type": "markdown",
   "metadata": {},
   "source": [
    "## References\n",
    "https://en.wikipedia.org/wiki/Quantum_error_correction#The_sign_flip_code"
   ]
  }
 ],
 "metadata": {
  "kernelspec": {
   "display_name": "Python 3",
   "language": "python",
   "name": "python3"
  },
  "language_info": {
   "codemirror_mode": {
    "name": "ipython",
    "version": 3
   },
   "file_extension": ".py",
   "mimetype": "text/x-python",
   "name": "python",
   "nbconvert_exporter": "python",
   "pygments_lexer": "ipython3",
   "version": "3.8.5"
  }
 },
 "nbformat": 4,
 "nbformat_minor": 4
}
