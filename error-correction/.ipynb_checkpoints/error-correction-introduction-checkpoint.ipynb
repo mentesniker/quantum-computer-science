{
 "cells": [
  {
   "cell_type": "markdown",
   "metadata": {},
   "source": [
    "# Quantum error correction.\n",
    "\n",
    "Quantum computers seems to be an almost miraculous thing after reading some posts on the internet. From breaking cryptocurrencies to the creation of new medicines, quantum computers seem to be so powerful. But, why  if we have quantum computers now, this things aren't happening?. Well, one of the reasons is because quantum computers have a lot of \"**noise**\", but what does this mean?, and there isn't a way to correct this \"**noise**\"?"
   ]
  },
  {
   "cell_type": "markdown",
   "metadata": {},
   "source": [
    "We can define informally the noise as an error that happens in different times and forms in quantum computers. But as you may have noticed in the definition, we stated **quantum computers** which means that different architectures of quantum computers have different types of errors. However, we can summary the principal types of error correction as the following:\n",
    "\n",
    "- Coherent quantum errors. This errors are gates which are incorrectly applied. For example if a circuit have the application of an X-gate then due to the coherent quantum error we'll end up applying an X-Gate plus an small rotation around the bloch sphere.\n",
    "\n",
    "- Enviromental decoherence. This errors are \"gates\" that are applied randomly when the quantum computer is iddle or when it has some time doing calculations.\n",
    "\n",
    "- Meassurement. This errors are: not gates applied to the bits that we obtain after doing a meassurement. For example if we read after a meassurement a 0 then due to the errors we'll get a 1.\n",
    "\n",
    "There are other types of errors but we won't mention them in this post. \n",
    "\n",
    "And now, what are the options available to correct these types of errors?. The first one is improving the hardware, but that is more related to the hardware. The second one is with software. There exists different types of codes (algorithms) to correct the errors as you'll see in the posts within this page."
   ]
  },
  {
   "cell_type": "markdown",
   "metadata": {},
   "source": [
    "## References:\n",
    "\n",
    "Devitt, Simon & Munro, William & Nemoto, Kae. (2013). Quantum Error Correction for Beginners. Reports on progress in physics. Physical Society (Great Britain). 76. 076001. 10.1088/0034-4885/76/7/076001. "
   ]
  }
 ],
 "metadata": {
  "kernelspec": {
   "display_name": "Python 3",
   "language": "python",
   "name": "python3"
  },
  "language_info": {
   "codemirror_mode": {
    "name": "ipython",
    "version": 3
   },
   "file_extension": ".py",
   "mimetype": "text/x-python",
   "name": "python",
   "nbconvert_exporter": "python",
   "pygments_lexer": "ipython3",
   "version": "3.8.5"
  }
 },
 "nbformat": 4,
 "nbformat_minor": 4
}
