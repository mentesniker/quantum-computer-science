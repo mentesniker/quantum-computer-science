{
 "cells": [
  {
   "cell_type": "markdown",
   "metadata": {},
   "source": [
    "# Error mitigation in measurement\n",
    "\n",
    "we have seen in the introduction that different type of errors could happen at different times of the execution. In the previous posts we focused on fixing the storage errors (when we storage a qubit state for some time...) but what about the errors at the time of meassurement?. This is a little more complicated matter because we can't use the same tricks because we the error is located elsewhere. So how to address this problem? Well, we'll use statistics to correct this type of error in the following way:\n",
    "\n",
    "First, let's import some functions that allow us to convert bit strings to strings and viceversa. Then let's define a function that codificates the received bit string into quanutm bits. This codification is really simple because we only represent a bit using quantum its. We won't use super postion to this excercise in part because we are only interested in meassuring errors. Finally, the last function count the number of 0 and 1 from an array of bits."
   ]
  },
  {
   "cell_type": "code",
   "execution_count": 2,
   "metadata": {},
   "outputs": [],
   "source": [
    "from qiskit import QuantumCircuit, QuantumRegister, Aer, execute, ClassicalRegister\n",
    "from qiskit.ignis.verification.topological_codes import RepetitionCode\n",
    "from qiskit.ignis.verification.topological_codes import lookuptable_decoding\n",
    "from qiskit.ignis.verification.topological_codes import GraphDecoder\n",
    "from qiskit.providers.aer.noise import NoiseModel\n",
    "from qiskit.providers.aer.noise.errors import pauli_error, depolarizing_error\n",
    "from qiskit.ignis.mitigation.measurement import (complete_meas_cal,CompleteMeasFitter)\n",
    "from qiskit.visualization import plot_histogram\n",
    "backend = Aer.get_backend('qasm_simulator')\n",
    "\n",
    "def tobits(s):\n",
    "    result = []\n",
    "    for c in s:\n",
    "        bits = bin(ord(c))[2:]\n",
    "        bits = '00000000'[len(bits):] + bits\n",
    "        result.extend([int(b) for b in bits])\n",
    "    return ''.join([str(x) for x in result])\n",
    "\n",
    "def frombits(bits):\n",
    "    chars = []\n",
    "    for b in range(int(len(bits) / 8)):\n",
    "        byte = bits[b*8:(b+1)*8]\n",
    "        chars.append(chr(int(''.join([str(bit) for bit in byte]), 2)))\n",
    "    return ''.join(chars)\n",
    "\n",
    "def get_noise(p):\n",
    "\n",
    "    error_meas = pauli_error([('X',p), ('I', 1 - p)])\n",
    "    noise_model = NoiseModel()\n",
    "    noise_model.add_all_qubit_quantum_error(error_meas, \"measure\") \n",
    "        \n",
    "    return noise_model\n",
    "\n",
    "def codificate(bitString):\n",
    "    qubits = list()\n",
    "    for i in range(len(bitString)):\n",
    "        mycircuit = QuantumCircuit(1,1)\n",
    "        if(bitString[i] == \"1\"):\n",
    "            mycircuit.x(0)\n",
    "        qubits.append(mycircuit)\n",
    "    return qubits\n",
    "\n",
    "def count(array):\n",
    "    numZero = 0\n",
    "    numOne = 0\n",
    "    for i in array:\n",
    "        if i == \"0\":\n",
    "            numZero += 1 \n",
    "        elif i == \"1\":\n",
    "            numOne += 1\n",
    "    return dict({\"0\":numZero, \"1\":numOne})"
   ]
  },
  {
   "cell_type": "markdown",
   "metadata": {},
   "source": [
    "As we saw in the previous posts, let's see the result without any errors:"
   ]
  },
  {
   "cell_type": "code",
   "execution_count": 17,
   "metadata": {},
   "outputs": [
    {
     "name": "stdout",
     "output_type": "stream",
     "text": [
      "I like dogs\n"
     ]
    }
   ],
   "source": [
    "m0 = tobits(\"I like dogs\") \n",
    "qubits = codificate(m0)\n",
    "measurements = list()\n",
    "for i in range(len(qubits)):\n",
    "    qubit = qubits[i]\n",
    "    qubit.measure(0,0)\n",
    "    result = execute(qubit, backend, shots=1, memory=True).result()\n",
    "    measurements.append(int(result.get_memory()[0]))\n",
    "print(frombits(measurements))"
   ]
  },
  {
   "cell_type": "markdown",
   "metadata": {},
   "source": [
    "Let's introduce some errors when meassuring and see the results. It's unreadeable as expected."
   ]
  },
  {
   "cell_type": "code",
   "execution_count": 18,
   "metadata": {
    "scrolled": false
   },
   "outputs": [
    {
     "name": "stdout",
     "output_type": "stream",
     "text": [
      "fl`ked$ÿW{\n"
     ]
    }
   ],
   "source": [
    "m0 = tobits(\"I like dogs\") \n",
    "qubits = codificate(m0)\n",
    "measurements = list()\n",
    "for i in range(len(qubits)):\n",
    "    qubit = qubits[i]\n",
    "    qubit.measure(0,0)\n",
    "    result = execute(qubit, backend, shots=1, memory=True, noise_model=get_noise(0.2)).result()\n",
    "    measurements.append(int(result.get_memory()[0]))\n",
    "print(frombits(measurements))"
   ]
  },
  {
   "cell_type": "markdown",
   "metadata": {},
   "source": [
    "Let's see how the error correction helps in this situation. \n",
    "\n",
    "First we'll run a meassurement 2000 times. This measurement is especial because we know that without noise we have to meassure a \"0\" 1000 times and then read \"1\" 1000 times. Then, let's count the outputs to construct the matrix M. This matrix has some statistics of when we got a 0 and when we got a 1, given the fact that we already know what was the expected output."
   ]
  },
  {
   "cell_type": "code",
   "execution_count": 4,
   "metadata": {},
   "outputs": [
    {
     "name": "stdout",
     "output_type": "stream",
     "text": [
      "0 becomes {'0': 389, '1': 611}\n",
      "1 becomes {'0': 593, '1': 407}\n"
     ]
    }
   ],
   "source": [
    "for state in ['0','1']:\n",
    "    qc = QuantumCircuit(1,1)\n",
    "    if state[0]=='1':\n",
    "        qc.x(0)  \n",
    "    qc.measure(qc.qregs[0],qc.cregs[0])\n",
    "    print(state+' becomes',\n",
    "          execute(qc, Aer.get_backend('qasm_simulator'),noise_model=get_noise(0.2),shots=1000).result().get_counts())"
   ]
  },
  {
   "cell_type": "markdown",
   "metadata": {},
   "source": [
    "Then, let's make a meassurement to get the $C_{noisy}$. This matrix has the counts of the result of doing a meassurement of the i-th bit of our original bit string."
   ]
  },
  {
   "cell_type": "code",
   "execution_count": 5,
   "metadata": {},
   "outputs": [
    {
     "name": "stdout",
     "output_type": "stream",
     "text": [
      "{'0': 397, '1': 603}\n"
     ]
    }
   ],
   "source": [
    "qubit = qubits[0]\n",
    "result = execute(qubit, backend, shots=1000, memory=True, noise_model=get_noise(0.2)).result()\n",
    "print(result.get_counts())"
   ]
  },
  {
   "cell_type": "markdown",
   "metadata": {},
   "source": [
    "Then we apply the following operation to get the error mitigation. $C_{noisy} = M ~ C_{ideal} \\rightarrow C_{ideal} = M^{-1} C_{noisy}.$"
   ]
  },
  {
   "cell_type": "code",
   "execution_count": 3,
   "metadata": {},
   "outputs": [
    {
     "name": "stdout",
     "output_type": "stream",
     "text": [
      "C_mitigated =\n",
      " [[1013.99019608]\n",
      " [   4.18627451]]\n"
     ]
    }
   ],
   "source": [
    "import numpy as np\n",
    "import scipy.linalg as la\n",
    "\n",
    "M = [[0.389,0.611],\n",
    "    [0.593,0.407]]\n",
    "Cnoisy = [[397],[603]]\n",
    "\n",
    "Minv = la.inv(M)\n",
    "\n",
    "Cmitigated = np.dot(Minv, Cnoisy)\n",
    "print('C_mitigated =\\n',Cmitigated)"
   ]
  },
  {
   "cell_type": "markdown",
   "metadata": {},
   "source": [
    "If we take only the positive part and we take the floor of the numbers (there aren't half meassurements or negative meassurements) then we have the error correction for this qubit only. We need to repeat the process for every qubit...."
   ]
  },
  {
   "cell_type": "code",
   "execution_count": 9,
   "metadata": {},
   "outputs": [
    {
     "name": "stdout",
     "output_type": "stream",
     "text": [
      "C_mitigated =\n",
      " [[1013.]\n",
      " [   4.]]\n"
     ]
    }
   ],
   "source": [
    "Cmitigated = np.floor(Cmitigated)\n",
    "if(Cmitigated[1][0] < 0):\n",
    "    Cmitigated[1][0] = 0\n",
    "print('C_mitigated =\\n',Cmitigated)"
   ]
  },
  {
   "cell_type": "markdown",
   "metadata": {},
   "source": [
    "Insted of doing this process by hand we can use the qiskit libraries to build the matrices."
   ]
  },
  {
   "cell_type": "code",
   "execution_count": 13,
   "metadata": {},
   "outputs": [
    {
     "name": "stdout",
     "output_type": "stream",
     "text": [
      "[[0.807 0.195]\n",
      " [0.193 0.805]]\n"
     ]
    }
   ],
   "source": [
    "qr = QuantumRegister(1)\n",
    "meas_calibs, state_labels = complete_meas_cal(qr=qr, circlabel='mcal')\n",
    "backend = Aer.get_backend('qasm_simulator')\n",
    "job = execute(meas_calibs, backend=backend, shots=1000,noise_model=get_noise(0.2))\n",
    "cal_results = job.result()\n",
    "meas_fitter = CompleteMeasFitter(cal_results, state_labels, circlabel='mcal')\n",
    "print(meas_fitter.cal_matrix)"
   ]
  },
  {
   "cell_type": "markdown",
   "metadata": {},
   "source": [
    "As you can see we have created the M matrix without all of the hardwork. Then we can create the $C_{noisy}$ matrix in the same way as before."
   ]
  },
  {
   "cell_type": "code",
   "execution_count": 14,
   "metadata": {},
   "outputs": [
    {
     "name": "stdout",
     "output_type": "stream",
     "text": [
      "{'0': 5398, '1': 4602}\n"
     ]
    }
   ],
   "source": [
    "qubit = qubits[2]\n",
    "qubit.measure(0,0)\n",
    "results = execute(qubit, backend=backend, shots=10000, noise_model=get_noise(0.2),memory=True).result()\n",
    "noisy_counts = count(results.get_memory())\n",
    "print(noisy_counts)"
   ]
  },
  {
   "cell_type": "markdown",
   "metadata": {},
   "source": [
    "And then we can calculate the result in the same way."
   ]
  },
  {
   "cell_type": "code",
   "execution_count": 15,
   "metadata": {},
   "outputs": [
    {
     "name": "stdout",
     "output_type": "stream",
     "text": [
      "C_mitigated =\n",
      " [5633.9869281 4366.0130719]\n"
     ]
    }
   ],
   "source": [
    "Minv = la.inv(meas_fitter.cal_matrix)\n",
    "\n",
    "Cmitigated = np.dot(Minv, np.array(list(noisy_counts.values())))\n",
    "print('C_mitigated =\\n',Cmitigated)"
   ]
  },
  {
   "cell_type": "markdown",
   "metadata": {},
   "source": [
    "Finally if we apply this process to all qubits, we'll have as a result:"
   ]
  },
  {
   "cell_type": "code",
   "execution_count": 19,
   "metadata": {},
   "outputs": [
    {
     "name": "stdout",
     "output_type": "stream",
     "text": [
      "I like dogs\n"
     ]
    }
   ],
   "source": [
    "outputs = list()\n",
    "for i in range(len(qubits)):\n",
    "    qubit = qubits[i]\n",
    "    qubit.measure(0,0)\n",
    "    results = execute(qubit, backend=backend, shots=10000, memory=True, noise_model=get_noise(0.2)).result()\n",
    "    noisy_counts = count(results.get_memory())\n",
    "    Minv = la.inv(meas_fitter.cal_matrix)\n",
    "    Cmitigated = np.dot(Minv, np.array(list(noisy_counts.values())))\n",
    "    if(Cmitigated[0] > Cmitigated[1]):\n",
    "        outputs.append('0')\n",
    "    else:\n",
    "        outputs.append('1')\n",
    "print(frombits(''.join(outputs)))"
   ]
  },
  {
   "cell_type": "markdown",
   "metadata": {},
   "source": [
    "But what if we didn't want to make operations with linear algebra?\n",
    "Well, qiskit has a built in function that do all these operations for us"
   ]
  },
  {
   "cell_type": "code",
   "execution_count": 21,
   "metadata": {},
   "outputs": [
    {
     "name": "stdout",
     "output_type": "stream",
     "text": [
      "I like dogs\n"
     ]
    }
   ],
   "source": [
    "outputs = list()\n",
    "meas_filter = meas_fitter.filter\n",
    "for i in range(len(qubits)):\n",
    "    qubit = qubits[i]\n",
    "    qubit.measure(0,0)\n",
    "    results = execute(qubit, backend=backend, shots=10000, memory=True, noise_model=get_noise(0.2)).result()\n",
    "    noisy_counts = count(results.get_memory())\n",
    "    # Results with mitigation\n",
    "    mitigated_counts = meas_filter.apply(noisy_counts)\n",
    "    if('1' not in mitigated_counts):\n",
    "        outputs.append('0')\n",
    "    elif('0' not in mitigated_counts):\n",
    "        outputs.append('1')\n",
    "    elif(mitigated_counts['0'] > mitigated_counts['1']):\n",
    "        outputs.append('0')\n",
    "    else:\n",
    "        outputs.append('1')\n",
    "print(frombits(''.join(outputs)))"
   ]
  },
  {
   "cell_type": "markdown",
   "metadata": {},
   "source": [
    "As you can see is a lot easier to create the error mitigation in this way. We avoid doing by hand everything.\n",
    "\n",
    "Something that you may have notice is that even if we had the correct string in the end in the $C_{mitigated}$ matrices we have counts that were really low but they were there and they weren't our expected result. This is why this is a mitigation algorithm. Unlike the codes from the previous post where we could correct the error completly, in the mitigation algorithms we'll have some noise even after the algorithm is applied."
   ]
  },
  {
   "cell_type": "markdown",
   "metadata": {},
   "source": [
    "## References:\n",
    "https://qiskit.org/textbook/ch-quantum-hardware/measurement-error-mitigation.html"
   ]
  }
 ],
 "metadata": {
  "kernelspec": {
   "display_name": "Python 3",
   "language": "python",
   "name": "python3"
  },
  "language_info": {
   "codemirror_mode": {
    "name": "ipython",
    "version": 3
   },
   "file_extension": ".py",
   "mimetype": "text/x-python",
   "name": "python",
   "nbconvert_exporter": "python",
   "pygments_lexer": "ipython3",
   "version": "3.8.5"
  }
 },
 "nbformat": 4,
 "nbformat_minor": 4
}
