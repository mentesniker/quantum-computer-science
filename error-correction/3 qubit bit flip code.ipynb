{
 "cells": [
  {
   "cell_type": "markdown",
   "metadata": {},
   "source": [
    "# 3 Qubit bit flip code\n",
    "We have seen in the introduction that we can have multiple types of errors. One of them is when you \"store qubits\" for a long period of time. We can correct a storage error but only when the error is an X gate (there are other methods for fixing multiple gates, but for now let's just focus on correcting an X gate). To solve this problem we need two additional qubits for each qubit that we want to correct. The main idea behind this and every other error correction code is that we'll use the additional qubits to check for errrors. In this way we avoid collapsing the superposition of our original qubit.\n",
    "\n",
    "In this post, we'll present you an execution of the bit flip code by encoding a string into qubits and then meassuring. We do this in in order to see the effects of the noise and how destructive they can be for some small and inocent calculations.\n",
    "\n",
    "In this code we make the assumption that the error happens in one part of the circuit. And also, the error only affects one qubit at a time."
   ]
  },
  {
   "cell_type": "markdown",
   "metadata": {},
   "source": [
    "First, let's define some function that will be useful for later.  The first two functions transform a string to bits and vice versa. The get_noise applies a x gate on a random qubit if a probability check up is met and finally codificate which codificate a bit string into it's equivalent in qubits. We simulate the noise in this way because it is easy to debug and check if we did everything correctly."
   ]
  },
  {
   "cell_type": "code",
   "execution_count": 1,
   "metadata": {},
   "outputs": [],
   "source": [
    "from qiskit import QuantumCircuit, QuantumRegister, Aer, execute, ClassicalRegister\n",
    "from qiskit.ignis.verification.topological_codes import RepetitionCode\n",
    "from qiskit.ignis.verification.topological_codes import lookuptable_decoding\n",
    "from qiskit.ignis.verification.topological_codes import GraphDecoder\n",
    "from qiskit.providers.aer.noise import NoiseModel\n",
    "from qiskit.providers.aer.noise.errors import pauli_error, depolarizing_error\n",
    "from qiskit.ignis.mitigation.measurement import (complete_meas_cal,CompleteMeasFitter)\n",
    "from qiskit.visualization import plot_histogram\n",
    "import random\n",
    "backend = Aer.get_backend('qasm_simulator')\n",
    "\n",
    "def tobits(s):\n",
    "    result = []\n",
    "    for c in s:\n",
    "        bits = bin(ord(c))[2:]\n",
    "        bits = '00000000'[len(bits):] + bits\n",
    "        result.extend([int(b) for b in bits])\n",
    "    return ''.join([str(x) for x in result])\n",
    "\n",
    "def frombits(bits):\n",
    "    chars = []\n",
    "    for b in range(int(len(bits) / 8)):\n",
    "        byte = bits[b*8:(b+1)*8]\n",
    "        chars.append(chr(int(''.join([str(bit) for bit in byte]), 2)))\n",
    "    return ''.join(chars)\n",
    "\n",
    "def get_noise(circuit,probability,qubits):\n",
    "    random_number = random.uniform(0, 1)\n",
    "    if(random_number <= probability):\n",
    "        qubit = random.randint(0,len(qubits)-1)\n",
    "        circuit.x(qubit)\n",
    "    return circuit\n",
    "\n",
    "def codificate(bitString):\n",
    "    qubits = list()\n",
    "    for i in range(len(bitString)):\n",
    "        mycircuit = QuantumCircuit(1,1)\n",
    "        if(bitString[i] == \"1\"):\n",
    "            mycircuit.x(0)\n",
    "        qubits.append(mycircuit)\n",
    "    return qubits"
   ]
  },
  {
   "cell_type": "markdown",
   "metadata": {},
   "source": [
    "Let's see the result for the string without any noise on the circuit"
   ]
  },
  {
   "cell_type": "code",
   "execution_count": 22,
   "metadata": {},
   "outputs": [
    {
     "name": "stdout",
     "output_type": "stream",
     "text": [
      "I like dogs\n"
     ]
    }
   ],
   "source": [
    "m0 = tobits(\"I like dogs\") \n",
    "qubits = codificate(m0)\n",
    "measurements = list()\n",
    "for i in range(len(qubits)):\n",
    "    qubit = qubits[i]\n",
    "    qubit.measure(0,0)\n",
    "    result = execute(qubit, backend, shots=1, memory=True).result()\n",
    "    measurements.append(int(result.get_memory()[0]))\n",
    "print(frombits(measurements))"
   ]
  },
  {
   "cell_type": "markdown",
   "metadata": {},
   "source": [
    "As you can see the string didn't suffer any transformation because we applied the inverse of the gates we used in the previous step. However, let's add some noise to check how the result will be affected."
   ]
  },
  {
   "cell_type": "code",
   "execution_count": 25,
   "metadata": {},
   "outputs": [
    {
     "name": "stdout",
     "output_type": "stream",
     "text": [
      "±npjg`f×2\n"
     ]
    }
   ],
   "source": [
    "m0 = tobits(\"I like dogs\") \n",
    "qubits = codificate(m0)\n",
    "measurements = list()\n",
    "for i in range(len(qubits)):\n",
    "    qubit = qubits[i]\n",
    "    qubit = get_noise(qubit,0.2,range(qubit.num_qubits))\n",
    "    qubit.measure(0,0)    \n",
    "    result = execute(qubit, backend, shots=1, memory=True).result()\n",
    "    measurements.append(int(result.get_memory()[0]))\n",
    "print(frombits(measurements))"
   ]
  },
  {
   "cell_type": "markdown",
   "metadata": {},
   "source": [
    "And the string doesn't appear to say \"I like dogs\" anymore, even thought we use only a probability of 0.2 for an error to occur.\n",
    "\n",
    "To address this issue we can use the 3 qubits bit flip code, which is describe by the following circuit:"
   ]
  },
  {
   "cell_type": "code",
   "execution_count": 6,
   "metadata": {},
   "outputs": [
    {
     "data": {
      "text/html": [
       "<pre style=\"word-wrap: normal;white-space: pre;background: #fff0;line-height: 1.1;font-family: &quot;Courier New&quot;,Courier,monospace\">                            ░       ░                           \n",
       "   code_qubit_0: ──■────────░───────░───■─────────■─────────────\n",
       "                 ┌─┴─┐      ░ ┌───┐ ░   │         │             \n",
       "ancilla_qubit_0: ┤ X ├──■───░─┤ X ├─░───┼────■────┼─────────────\n",
       "                 └───┘┌─┴─┐ ░ └───┘ ░   │    │    │             \n",
       "ancilla_qubit_1: ─────┤ X ├─░───────░───┼────┼────┼────■────────\n",
       "                      └───┘ ░       ░ ┌─┴─┐┌─┴─┐  │    │  ┌─┐   \n",
       "ancilla_qubit_2: ───────────░───────░─┤ X ├┤ X ├──┼────┼──┤M├───\n",
       "                            ░       ░ └───┘└───┘┌─┴─┐┌─┴─┐└╥┘┌─┐\n",
       "ancilla_qubit_3: ───────────░───────░───────────┤ X ├┤ X ├─╫─┤M├\n",
       "                            ░       ░           └───┘└───┘ ║ └╥┘\n",
       " syndrome_bit: 2/══════════════════════════════════════════╩══╩═\n",
       "                                                           0  1 \n",
       "                                                                \n",
       "   output_bit: 1/═══════════════════════════════════════════════\n",
       "                                                                </pre>"
      ],
      "text/plain": [
       "                            ░       ░                           \n",
       "   code_qubit_0: ──■────────░───────░───■─────────■─────────────\n",
       "                 ┌─┴─┐      ░ ┌───┐ ░   │         │             \n",
       "ancilla_qubit_0: ┤ X ├──■───░─┤ X ├─░───┼────■────┼─────────────\n",
       "                 └───┘┌─┴─┐ ░ └───┘ ░   │    │    │             \n",
       "ancilla_qubit_1: ─────┤ X ├─░───────░───┼────┼────┼────■────────\n",
       "                      └───┘ ░       ░ ┌─┴─┐┌─┴─┐  │    │  ┌─┐   \n",
       "ancilla_qubit_2: ───────────░───────░─┤ X ├┤ X ├──┼────┼──┤M├───\n",
       "                            ░       ░ └───┘└───┘┌─┴─┐┌─┴─┐└╥┘┌─┐\n",
       "ancilla_qubit_3: ───────────░───────░───────────┤ X ├┤ X ├─╫─┤M├\n",
       "                            ░       ░           └───┘└───┘ ║ └╥┘\n",
       " syndrome_bit: 2/══════════════════════════════════════════╩══╩═\n",
       "                                                           0  1 \n",
       "                                                                \n",
       "   output_bit: 1/═══════════════════════════════════════════════\n",
       "                                                                "
      ]
     },
     "execution_count": 6,
     "metadata": {},
     "output_type": "execute_result"
    }
   ],
   "source": [
    "cb = QuantumRegister(1,'code_qubit')\n",
    "lq = QuantumRegister(4,'ancilla_qubit')\n",
    "sb = ClassicalRegister(2,'syndrome_bit')\n",
    "out = ClassicalRegister(1,'output_bit')\n",
    "mycircuit = QuantumCircuit(cb,lq,sb,out)\n",
    "mycircuit.cx(0,1)\n",
    "mycircuit.cx(1,2)\n",
    "mycircuit.barrier()\n",
    "mycircuit = get_noise(mycircuit,0.2,range(3))\n",
    "mycircuit.barrier()\n",
    "mycircuit.cx(0,3)\n",
    "mycircuit.cx(1,3)\n",
    "mycircuit.cx(0,4)\n",
    "mycircuit.cx(2,4)\n",
    "mycircuit.measure(3,0)\n",
    "mycircuit.measure(4,1)\n",
    "mycircuit.draw()"
   ]
  },
  {
   "cell_type": "markdown",
   "metadata": {},
   "source": [
    "As we said in the introduction if we have those additional qubits we can check if an error occured during our execution. To identify this errors, we just have to check the following table to see what type of error we had (if any).\n",
    "\n",
    "| Meassurement | Error location | Action |\n",
    "|--------------|----------------|--------|\n",
    "| 00           | No error       | No     |\n",
    "| 01           | Ancilla bit    | No     |\n",
    "| 10           | Ancilla bit    | No     |\n",
    "| 11           | Code qubit     | X gate |\n",
    "\n",
    "As you can see the only thing we need to do is to check the values of the meassurements and then apply a X gate.\n",
    "\n",
    "Continuing with the proccess for the string \"I like dogs\", we have to to apply the error correction code."
   ]
  },
  {
   "cell_type": "code",
   "execution_count": 74,
   "metadata": {},
   "outputs": [],
   "source": [
    "for i in range(len(qubits)):\n",
    "    cb = QuantumRegister(1,'code_qubit')\n",
    "    lq = QuantumRegister(4,'ancilla_qubit')\n",
    "    sb = ClassicalRegister(2,'syndrome_bit')\n",
    "    out = ClassicalRegister(1,'output_bit')\n",
    "    mycircuit = QuantumCircuit(cb,lq,sb,out)\n",
    "    if(m0[i] == \"1\"):\n",
    "        mycircuit.x(0)\n",
    "    mycircuit.cx(0,1)\n",
    "    mycircuit.cx(1,2)\n",
    "    mycircuit = get_noise(mycircuit,0.2,range(3))\n",
    "    mycircuit.cx(0,3)\n",
    "    mycircuit.cx(1,3)\n",
    "    mycircuit.cx(0,4)\n",
    "    mycircuit.cx(2,4)\n",
    "    mycircuit.measure(3,0)\n",
    "    mycircuit.measure(4,1)\n",
    "    qubits[i] = mycircuit"
   ]
  },
  {
   "cell_type": "markdown",
   "metadata": {},
   "source": [
    "Finally, we check with the help of the four qubits if something had changed and then we apply a correction."
   ]
  },
  {
   "cell_type": "code",
   "execution_count": 75,
   "metadata": {},
   "outputs": [
    {
     "name": "stdout",
     "output_type": "stream",
     "text": [
      "without error correction the string was: I likg\u0000docS\n",
      "with error correction the string was: I like dogs\n"
     ]
    }
   ],
   "source": [
    "measurements = list()\n",
    "raw_bits = list()\n",
    "for i in range(len(qubits)):\n",
    "    qubit = qubits[i]\n",
    "    qubit.measure(0,2)\n",
    "    result = execute(qubit, backend, shots=1, memory=True).result()\n",
    "    bits = result.get_memory()[0]\n",
    "    raw_bits.append(int(bits[0]))\n",
    "for i in range(len(qubits)):\n",
    "    qubit = qubits[i]\n",
    "    result = execute(qubit, backend, shots=1, memory=True).result()\n",
    "    bits = result.get_memory()[0]\n",
    "    if(bits[2] == '1' and bits[3] == '0'):\n",
    "        qubit.x(2)\n",
    "    if(bits[2] == '0' and bits[3] == '1'):\n",
    "        qubit.x(1)\n",
    "    if(bits[2] == '1' and bits[3] == '1'):\n",
    "        qubit.x(0)\n",
    "    qubit.measure(0,2)\n",
    "    result = execute(qubit, backend, shots=1, memory=True).result()\n",
    "    bits = result.get_memory()[0]\n",
    "    measurements.append(int(bits[0]))\n",
    "print(\"without error correction the string was: \" + frombits(raw_bits))\n",
    "print(\"with error correction the string was: \" + frombits(measurements))"
   ]
  },
  {
   "cell_type": "markdown",
   "metadata": {},
   "source": [
    "As you can see the error correction works perfectly. But, in the real life we won't have just X-gates. We'll have a lot of other gates applied to our qubits. So we must find another way to correct errors."
   ]
  },
  {
   "cell_type": "markdown",
   "metadata": {},
   "source": [
    "## References:\n",
    "Devitt, Simon & Munro, William & Nemoto, Kae. (2013). Quantum Error Correction for Beginners. Reports on progress in physics. Physical Society (Great Britain). 76. 076001. 10.1088/0034-4885/76/7/076001. "
   ]
  }
 ],
 "metadata": {
  "kernelspec": {
   "display_name": "Python 3",
   "language": "python",
   "name": "python3"
  },
  "language_info": {
   "codemirror_mode": {
    "name": "ipython",
    "version": 3
   },
   "file_extension": ".py",
   "mimetype": "text/x-python",
   "name": "python",
   "nbconvert_exporter": "python",
   "pygments_lexer": "ipython3",
   "version": "3.8.5"
  }
 },
 "nbformat": 4,
 "nbformat_minor": 4
}
